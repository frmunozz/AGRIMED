{
 "cells": [
  {
   "cell_type": "markdown",
   "metadata": {},
   "source": [
    "# Clasificadores Binarios\n",
    "\n",
    "utilizaremos los siguientes clasificadores:\n",
    "\n",
    "* K-NN\n",
    "* arbol de decision\n",
    "* SVC\n",
    "* regresion logistica\n",
    "* MLP\n",
    "\n",
    "El dataset utilizado esl el 'dataset1' que contiene mediciones a las 14 y 19 hrs, el cual normalizamos en un intervalo [0,1]\n",
    "\n",
    "Ademas se equilibia la cantidad de datos, borrando mediciones"
   ]
  },
  {
   "cell_type": "code",
   "execution_count": 245,
   "metadata": {},
   "outputs": [],
   "source": [
    "import glob\n",
    "import pandas as pd\n",
    "import numpy as np\n",
    "from datetime import date, datetime, time, timedelta\n",
    "from collections import defaultdict\n",
    "from sklearn.neighbors import KNeighborsClassifier\n",
    "\n",
    "import numpy as np\n",
    "import matplotlib.pyplot as plt\n",
    "\n",
    "\n",
    "from sklearn import preprocessing\n",
    "import seaborn as sns\n",
    "from sklearn import svm, datasets\n",
    "from sklearn.model_selection import train_test_split\n",
    "from sklearn.metrics import confusion_matrix\n",
    "from sklearn.utils.multiclass import unique_labels"
   ]
  },
  {
   "cell_type": "code",
   "execution_count": 108,
   "metadata": {},
   "outputs": [
    {
     "data": {
      "text/html": [
       "<div>\n",
       "<style scoped>\n",
       "    .dataframe tbody tr th:only-of-type {\n",
       "        vertical-align: middle;\n",
       "    }\n",
       "\n",
       "    .dataframe tbody tr th {\n",
       "        vertical-align: top;\n",
       "    }\n",
       "\n",
       "    .dataframe thead th {\n",
       "        text-align: right;\n",
       "    }\n",
       "</style>\n",
       "<table border=\"1\" class=\"dataframe\">\n",
       "  <thead>\n",
       "    <tr style=\"text-align: right;\">\n",
       "      <th></th>\n",
       "      <th>code</th>\n",
       "      <th>Fecha</th>\n",
       "      <th>T_14</th>\n",
       "      <th>Hum_14</th>\n",
       "      <th>DVin_14</th>\n",
       "      <th>VVin_14</th>\n",
       "      <th>Prec_14</th>\n",
       "      <th>RadSol_14</th>\n",
       "      <th>PATM_14h</th>\n",
       "      <th>T_19</th>\n",
       "      <th>Hum_19</th>\n",
       "      <th>DVin_19</th>\n",
       "      <th>VVin_19</th>\n",
       "      <th>Prec_19</th>\n",
       "      <th>RadSol_19</th>\n",
       "      <th>PATM_19h</th>\n",
       "      <th>Target</th>\n",
       "    </tr>\n",
       "  </thead>\n",
       "  <tbody>\n",
       "    <tr>\n",
       "      <td>0</td>\n",
       "      <td>13</td>\n",
       "      <td>2010-06-11</td>\n",
       "      <td>7.2</td>\n",
       "      <td>66.7</td>\n",
       "      <td>61.4</td>\n",
       "      <td>0.0</td>\n",
       "      <td>0.0</td>\n",
       "      <td>146.0</td>\n",
       "      <td>1006.0</td>\n",
       "      <td>3.8</td>\n",
       "      <td>84.7</td>\n",
       "      <td>146.5</td>\n",
       "      <td>0.0</td>\n",
       "      <td>0.0</td>\n",
       "      <td>0.0</td>\n",
       "      <td>1005.0</td>\n",
       "      <td>True</td>\n",
       "    </tr>\n",
       "    <tr>\n",
       "      <td>1</td>\n",
       "      <td>13</td>\n",
       "      <td>2010-06-12</td>\n",
       "      <td>14.0</td>\n",
       "      <td>48.6</td>\n",
       "      <td>315.7</td>\n",
       "      <td>0.0</td>\n",
       "      <td>0.0</td>\n",
       "      <td>246.3</td>\n",
       "      <td>1008.0</td>\n",
       "      <td>9.7</td>\n",
       "      <td>66.0</td>\n",
       "      <td>266.1</td>\n",
       "      <td>0.0</td>\n",
       "      <td>0.0</td>\n",
       "      <td>0.0</td>\n",
       "      <td>1013.0</td>\n",
       "      <td>False</td>\n",
       "    </tr>\n",
       "    <tr>\n",
       "      <td>2</td>\n",
       "      <td>13</td>\n",
       "      <td>2010-06-13</td>\n",
       "      <td>8.6</td>\n",
       "      <td>82.4</td>\n",
       "      <td>228.0</td>\n",
       "      <td>0.0</td>\n",
       "      <td>0.0</td>\n",
       "      <td>118.5</td>\n",
       "      <td>1011.0</td>\n",
       "      <td>6.3</td>\n",
       "      <td>95.5</td>\n",
       "      <td>141.3</td>\n",
       "      <td>0.0</td>\n",
       "      <td>0.0</td>\n",
       "      <td>0.0</td>\n",
       "      <td>1011.0</td>\n",
       "      <td>False</td>\n",
       "    </tr>\n",
       "    <tr>\n",
       "      <td>3</td>\n",
       "      <td>13</td>\n",
       "      <td>2010-06-14</td>\n",
       "      <td>6.0</td>\n",
       "      <td>84.9</td>\n",
       "      <td>53.2</td>\n",
       "      <td>0.0</td>\n",
       "      <td>0.2</td>\n",
       "      <td>53.6</td>\n",
       "      <td>1014.0</td>\n",
       "      <td>3.7</td>\n",
       "      <td>94.2</td>\n",
       "      <td>114.6</td>\n",
       "      <td>0.0</td>\n",
       "      <td>0.4</td>\n",
       "      <td>0.0</td>\n",
       "      <td>1019.0</td>\n",
       "      <td>False</td>\n",
       "    </tr>\n",
       "    <tr>\n",
       "      <td>4</td>\n",
       "      <td>13</td>\n",
       "      <td>2010-06-15</td>\n",
       "      <td>0.8</td>\n",
       "      <td>89.7</td>\n",
       "      <td>240.3</td>\n",
       "      <td>0.0</td>\n",
       "      <td>0.0</td>\n",
       "      <td>39.6</td>\n",
       "      <td>1026.0</td>\n",
       "      <td>0.7</td>\n",
       "      <td>89.3</td>\n",
       "      <td>144.7</td>\n",
       "      <td>0.0</td>\n",
       "      <td>0.0</td>\n",
       "      <td>0.0</td>\n",
       "      <td>1027.0</td>\n",
       "      <td>True</td>\n",
       "    </tr>\n",
       "  </tbody>\n",
       "</table>\n",
       "</div>"
      ],
      "text/plain": [
       "   code       Fecha  T_14  Hum_14  DVin_14  VVin_14  Prec_14  RadSol_14  \\\n",
       "0    13  2010-06-11   7.2    66.7     61.4      0.0      0.0      146.0   \n",
       "1    13  2010-06-12  14.0    48.6    315.7      0.0      0.0      246.3   \n",
       "2    13  2010-06-13   8.6    82.4    228.0      0.0      0.0      118.5   \n",
       "3    13  2010-06-14   6.0    84.9     53.2      0.0      0.2       53.6   \n",
       "4    13  2010-06-15   0.8    89.7    240.3      0.0      0.0       39.6   \n",
       "\n",
       "   PATM_14h  T_19  Hum_19  DVin_19  VVin_19  Prec_19  RadSol_19  PATM_19h  \\\n",
       "0    1006.0   3.8    84.7    146.5      0.0      0.0        0.0    1005.0   \n",
       "1    1008.0   9.7    66.0    266.1      0.0      0.0        0.0    1013.0   \n",
       "2    1011.0   6.3    95.5    141.3      0.0      0.0        0.0    1011.0   \n",
       "3    1014.0   3.7    94.2    114.6      0.0      0.4        0.0    1019.0   \n",
       "4    1026.0   0.7    89.3    144.7      0.0      0.0        0.0    1027.0   \n",
       "\n",
       "   Target  \n",
       "0    True  \n",
       "1   False  \n",
       "2   False  \n",
       "3   False  \n",
       "4    True  "
      ]
     },
     "execution_count": 108,
     "metadata": {},
     "output_type": "execute_result"
    }
   ],
   "source": [
    "data = \"../data/processed/dataset1.csv\"\n",
    "df = pd.read_csv(data)\n",
    "df.head()"
   ]
  },
  {
   "cell_type": "code",
   "execution_count": 243,
   "metadata": {},
   "outputs": [
    {
     "name": "stdout",
     "output_type": "stream",
     "text": [
      "luego de emparejar, tenemos:\n",
      "5649 dias sin heladas\n",
      "3005 dias con heladas\n"
     ]
    },
    {
     "data": {
      "text/html": [
       "<div>\n",
       "<style scoped>\n",
       "    .dataframe tbody tr th:only-of-type {\n",
       "        vertical-align: middle;\n",
       "    }\n",
       "\n",
       "    .dataframe tbody tr th {\n",
       "        vertical-align: top;\n",
       "    }\n",
       "\n",
       "    .dataframe thead th {\n",
       "        text-align: right;\n",
       "    }\n",
       "</style>\n",
       "<table border=\"1\" class=\"dataframe\">\n",
       "  <thead>\n",
       "    <tr style=\"text-align: right;\">\n",
       "      <th></th>\n",
       "      <th>code</th>\n",
       "      <th>Fecha</th>\n",
       "      <th>T_14</th>\n",
       "      <th>Hum_14</th>\n",
       "      <th>DVin_14</th>\n",
       "      <th>VVin_14</th>\n",
       "      <th>Prec_14</th>\n",
       "      <th>RadSol_14</th>\n",
       "      <th>PATM_14h</th>\n",
       "      <th>T_19</th>\n",
       "      <th>Hum_19</th>\n",
       "      <th>DVin_19</th>\n",
       "      <th>VVin_19</th>\n",
       "      <th>Prec_19</th>\n",
       "      <th>RadSol_19</th>\n",
       "      <th>PATM_19h</th>\n",
       "      <th>Target</th>\n",
       "    </tr>\n",
       "  </thead>\n",
       "  <tbody>\n",
       "    <tr>\n",
       "      <td>0</td>\n",
       "      <td>13</td>\n",
       "      <td>2010-06-11</td>\n",
       "      <td>7.2</td>\n",
       "      <td>66.7</td>\n",
       "      <td>61.4</td>\n",
       "      <td>0.0</td>\n",
       "      <td>0.0</td>\n",
       "      <td>146.0</td>\n",
       "      <td>1006.0</td>\n",
       "      <td>3.8</td>\n",
       "      <td>84.7</td>\n",
       "      <td>146.5</td>\n",
       "      <td>0.0</td>\n",
       "      <td>0.0</td>\n",
       "      <td>0.0</td>\n",
       "      <td>1005.0</td>\n",
       "      <td>True</td>\n",
       "    </tr>\n",
       "    <tr>\n",
       "      <td>4</td>\n",
       "      <td>13</td>\n",
       "      <td>2010-06-15</td>\n",
       "      <td>0.8</td>\n",
       "      <td>89.7</td>\n",
       "      <td>240.3</td>\n",
       "      <td>0.0</td>\n",
       "      <td>0.0</td>\n",
       "      <td>39.6</td>\n",
       "      <td>1026.0</td>\n",
       "      <td>0.7</td>\n",
       "      <td>89.3</td>\n",
       "      <td>144.7</td>\n",
       "      <td>0.0</td>\n",
       "      <td>0.0</td>\n",
       "      <td>0.0</td>\n",
       "      <td>1027.0</td>\n",
       "      <td>True</td>\n",
       "    </tr>\n",
       "    <tr>\n",
       "      <td>5</td>\n",
       "      <td>13</td>\n",
       "      <td>2010-06-16</td>\n",
       "      <td>2.3</td>\n",
       "      <td>70.2</td>\n",
       "      <td>183.1</td>\n",
       "      <td>0.0</td>\n",
       "      <td>0.0</td>\n",
       "      <td>278.3</td>\n",
       "      <td>1023.0</td>\n",
       "      <td>0.2</td>\n",
       "      <td>69.1</td>\n",
       "      <td>271.2</td>\n",
       "      <td>0.0</td>\n",
       "      <td>0.0</td>\n",
       "      <td>0.0</td>\n",
       "      <td>1025.0</td>\n",
       "      <td>True</td>\n",
       "    </tr>\n",
       "    <tr>\n",
       "      <td>6</td>\n",
       "      <td>13</td>\n",
       "      <td>2010-06-17</td>\n",
       "      <td>4.1</td>\n",
       "      <td>57.9</td>\n",
       "      <td>259.1</td>\n",
       "      <td>0.0</td>\n",
       "      <td>0.0</td>\n",
       "      <td>326.6</td>\n",
       "      <td>1027.0</td>\n",
       "      <td>-2.3</td>\n",
       "      <td>84.8</td>\n",
       "      <td>98.9</td>\n",
       "      <td>0.0</td>\n",
       "      <td>0.0</td>\n",
       "      <td>0.0</td>\n",
       "      <td>1031.0</td>\n",
       "      <td>True</td>\n",
       "    </tr>\n",
       "    <tr>\n",
       "      <td>7</td>\n",
       "      <td>13</td>\n",
       "      <td>2010-06-18</td>\n",
       "      <td>4.7</td>\n",
       "      <td>59.6</td>\n",
       "      <td>299.3</td>\n",
       "      <td>0.0</td>\n",
       "      <td>0.0</td>\n",
       "      <td>203.4</td>\n",
       "      <td>1020.0</td>\n",
       "      <td>-1.8</td>\n",
       "      <td>92.8</td>\n",
       "      <td>206.0</td>\n",
       "      <td>0.0</td>\n",
       "      <td>0.0</td>\n",
       "      <td>0.0</td>\n",
       "      <td>1022.0</td>\n",
       "      <td>True</td>\n",
       "    </tr>\n",
       "  </tbody>\n",
       "</table>\n",
       "</div>"
      ],
      "text/plain": [
       "   code       Fecha  T_14  Hum_14  DVin_14  VVin_14  Prec_14  RadSol_14  \\\n",
       "0    13  2010-06-11   7.2    66.7     61.4      0.0      0.0      146.0   \n",
       "4    13  2010-06-15   0.8    89.7    240.3      0.0      0.0       39.6   \n",
       "5    13  2010-06-16   2.3    70.2    183.1      0.0      0.0      278.3   \n",
       "6    13  2010-06-17   4.1    57.9    259.1      0.0      0.0      326.6   \n",
       "7    13  2010-06-18   4.7    59.6    299.3      0.0      0.0      203.4   \n",
       "\n",
       "   PATM_14h  T_19  Hum_19  DVin_19  VVin_19  Prec_19  RadSol_19  PATM_19h  \\\n",
       "0    1006.0   3.8    84.7    146.5      0.0      0.0        0.0    1005.0   \n",
       "4    1026.0   0.7    89.3    144.7      0.0      0.0        0.0    1027.0   \n",
       "5    1023.0   0.2    69.1    271.2      0.0      0.0        0.0    1025.0   \n",
       "6    1027.0  -2.3    84.8     98.9      0.0      0.0        0.0    1031.0   \n",
       "7    1020.0  -1.8    92.8    206.0      0.0      0.0        0.0    1022.0   \n",
       "\n",
       "   Target  \n",
       "0    True  \n",
       "4    True  \n",
       "5    True  \n",
       "6    True  \n",
       "7    True  "
      ]
     },
     "execution_count": 243,
     "metadata": {},
     "output_type": "execute_result"
    }
   ],
   "source": [
    "# debemos equilibrar la cantidad de datos, por ahora lo que haremos sera reducir dias no helados.\n",
    "idxs = df[df[\"Target\"] == False].index\n",
    "choices = np.random.choice(idxs, 6000)\n",
    "choices = np.unique(choices)\n",
    "df_nofrost = df.iloc[choices]\n",
    "df_frost = df[df[\"Target\"]]\n",
    "print(\"luego de emparejar, tenemos:\")\n",
    "print(len(df_nofrost), \"dias sin heladas\")\n",
    "print(len(df_frost), \"dias con heladas\")\n",
    "\n",
    "df_fix = pd.concat([df_frost, df_nofrost])\n",
    "df_fix.head()"
   ]
  },
  {
   "cell_type": "code",
   "execution_count": 222,
   "metadata": {},
   "outputs": [],
   "source": [
    "matrix = df_fix.values\n",
    "X = matrix[:,2:-1]\n",
    "y = matrix[:,-1].astype(float)"
   ]
  },
  {
   "cell_type": "code",
   "execution_count": 223,
   "metadata": {},
   "outputs": [],
   "source": [
    "# normalize data\n",
    "X_scaled = preprocessing.scale(X)\n",
    "\n",
    "X_train, X_test, y_train, y_test = train_test_split(X_scaled, y, test_size=0.2, random_state=1, stratify=y)"
   ]
  },
  {
   "cell_type": "markdown",
   "metadata": {},
   "source": [
    "# KNN"
   ]
  },
  {
   "cell_type": "code",
   "execution_count": 224,
   "metadata": {},
   "outputs": [
    {
     "name": "stdout",
     "output_type": "stream",
     "text": [
      "Score KNN: 0.8799126637554585\n"
     ]
    }
   ],
   "source": [
    "knn = KNeighborsClassifier(n_neighbors=10)\n",
    "knn.fit(X_train, y_train) \n",
    "print(\"Score KNN:\", knn.score(X_test, y_test))"
   ]
  },
  {
   "cell_type": "code",
   "execution_count": 225,
   "metadata": {},
   "outputs": [
    {
     "name": "stdout",
     "output_type": "stream",
     "text": [
      "[0.68340611 0.68195051 0.71615721 0.73508006 0.67443554]\n",
      "cv_scores mean:0.6982058858140622\n"
     ]
    }
   ],
   "source": [
    "\n",
    "#create a new KNN model\n",
    "knn_cv = KNeighborsClassifier(n_neighbors=10)\n",
    "#train model with cv of 5 \n",
    "cv_scores = cross_val_score(knn_cv, X, y, cv=5)\n",
    "#print each cv score (accuracy) and average them\n",
    "print(cv_scores)\n",
    "print('cv_scores mean:{}'.format(np.mean(cv_scores)))"
   ]
  },
  {
   "cell_type": "code",
   "execution_count": 226,
   "metadata": {},
   "outputs": [
    {
     "name": "stdout",
     "output_type": "stream",
     "text": [
      "[[674  99]\n",
      " [ 66 535]]\n",
      "              precision    recall  f1-score   support\n",
      "\n",
      "         0.0       0.91      0.87      0.89       773\n",
      "         1.0       0.84      0.89      0.87       601\n",
      "\n",
      "    accuracy                           0.88      1374\n",
      "   macro avg       0.88      0.88      0.88      1374\n",
      "weighted avg       0.88      0.88      0.88      1374\n",
      "\n"
     ]
    }
   ],
   "source": [
    "from sklearn.metrics import classification_report, confusion_matrix\n",
    "print(confusion_matrix(y_test, knn.predict(X_test)))\n",
    "print(classification_report(y_test, knn.predict(X_test)))"
   ]
  },
  {
   "cell_type": "code",
   "execution_count": 227,
   "metadata": {},
   "outputs": [],
   "source": [
    "def plot_confusion_matrix(cm,\n",
    "                          target_names,\n",
    "                          title='Confusion matrix',\n",
    "                          cmap=None,\n",
    "                          normalize=True):\n",
    "    \"\"\"\n",
    "    given a sklearn confusion matrix (cm), make a nice plot\n",
    "\n",
    "    Arguments\n",
    "    ---------\n",
    "    cm:           confusion matrix from sklearn.metrics.confusion_matrix\n",
    "\n",
    "    target_names: given classification classes such as [0, 1, 2]\n",
    "                  the class names, for example: ['high', 'medium', 'low']\n",
    "\n",
    "    title:        the text to display at the top of the matrix\n",
    "\n",
    "    cmap:         the gradient of the values displayed from matplotlib.pyplot.cm\n",
    "                  see http://matplotlib.org/examples/color/colormaps_reference.html\n",
    "                  plt.get_cmap('jet') or plt.cm.Blues\n",
    "\n",
    "    normalize:    If False, plot the raw numbers\n",
    "                  If True, plot the proportions\n",
    "\n",
    "    Usage\n",
    "    -----\n",
    "    plot_confusion_matrix(cm           = cm,                  # confusion matrix created by\n",
    "                                                              # sklearn.metrics.confusion_matrix\n",
    "                          normalize    = True,                # show proportions\n",
    "                          target_names = y_labels_vals,       # list of names of the classes\n",
    "                          title        = best_estimator_name) # title of graph\n",
    "\n",
    "    Citiation\n",
    "    ---------\n",
    "    http://scikit-learn.org/stable/auto_examples/model_selection/plot_confusion_matrix.html\n",
    "\n",
    "    \"\"\"\n",
    "    import matplotlib.pyplot as plt\n",
    "    import numpy as np\n",
    "    import itertools\n",
    "\n",
    "    accuracy = np.trace(cm) / float(np.sum(cm))\n",
    "    misclass = 1 - accuracy\n",
    "\n",
    "    if cmap is None:\n",
    "        cmap = plt.get_cmap('Blues')\n",
    "\n",
    "    plt.figure(figsize=(8, 6))\n",
    "    plt.imshow(cm, interpolation='nearest', cmap=cmap)\n",
    "    plt.title(title)\n",
    "    plt.colorbar()\n",
    "\n",
    "    if target_names is not None:\n",
    "        tick_marks = np.arange(len(target_names))\n",
    "        plt.xticks(tick_marks, target_names, rotation=45)\n",
    "        plt.yticks(tick_marks, target_names)\n",
    "\n",
    "    if normalize:\n",
    "        cm = cm.astype('float') / cm.sum(axis=1)[:, np.newaxis]\n",
    "\n",
    "\n",
    "    thresh = cm.max() / 1.5 if normalize else cm.max() / 2\n",
    "    for i, j in itertools.product(range(cm.shape[0]), range(cm.shape[1])):\n",
    "        if normalize:\n",
    "            plt.text(j, i, \"{:0.4f}\".format(cm[i, j]),\n",
    "                     horizontalalignment=\"center\",\n",
    "                     color=\"white\" if cm[i, j] > thresh else \"black\")\n",
    "        else:\n",
    "            plt.text(j, i, \"{:,}\".format(cm[i, j]),\n",
    "                     horizontalalignment=\"center\",\n",
    "                     color=\"white\" if cm[i, j] > thresh else \"black\")\n",
    "\n",
    "\n",
    "    plt.tight_layout()\n",
    "    plt.ylabel('True label')\n",
    "    plt.xlabel('Predicted label\\naccuracy={:0.4f}; misclass={:0.4f}'.format(accuracy, misclass))\n",
    "    plt.show()"
   ]
  },
  {
   "cell_type": "code",
   "execution_count": 228,
   "metadata": {},
   "outputs": [
    {
     "data": {
      "image/png": "[encoded data removed]",
      "text/plain": [
       "<Figure size 576x432 with 2 Axes>"
      ]
     },
     "metadata": {
      "needs_background": "light"
     },
     "output_type": "display_data"
    }
   ],
   "source": [
    "cm = confusion_matrix(y_test, knn.predict(X_test))\n",
    "plot_confusion_matrix(cm, [\"No-Heladas\", \"Heladas\"], normalize=True,\n",
    "                      title='Normalized confusion matrix')"
   ]
  },
  {
   "cell_type": "markdown",
   "metadata": {},
   "source": [
    "## ARBOL DE DESICION\n"
   ]
  },
  {
   "cell_type": "code",
   "execution_count": 229,
   "metadata": {},
   "outputs": [],
   "source": [
    "from sklearn import tree\n",
    "clf = tree.DecisionTreeClassifier(min_samples_leaf=20)\n",
    "clf = clf.fit(X_train, y_train)"
   ]
  },
  {
   "cell_type": "code",
   "execution_count": 230,
   "metadata": {},
   "outputs": [
    {
     "data": {
      "text/plain": [
       "0.8646288209606987"
      ]
     },
     "execution_count": 230,
     "metadata": {},
     "output_type": "execute_result"
    }
   ],
   "source": [
    "clf.score(X_test, y_test)"
   ]
  },
  {
   "cell_type": "code",
   "execution_count": 231,
   "metadata": {},
   "outputs": [
    {
     "name": "stdout",
     "output_type": "stream",
     "text": [
      "[0.76491994 0.85371179 0.81659389 0.81950509 0.78514202]\n",
      "cv_scores mean:0.8079745476018578\n"
     ]
    }
   ],
   "source": [
    "clf_cv = tree.DecisionTreeClassifier()\n",
    "#train model with cv of 5 \n",
    "cv_scores = cross_val_score(clf_cv, X, y, cv=5)\n",
    "#print each cv score (accuracy) and average them\n",
    "print(cv_scores)\n",
    "print('cv_scores mean:{}'.format(np.mean(cv_scores)))"
   ]
  },
  {
   "cell_type": "markdown",
   "metadata": {},
   "source": [
    "# REGRESION LOGISTICA"
   ]
  },
  {
   "cell_type": "code",
   "execution_count": 232,
   "metadata": {},
   "outputs": [
    {
     "name": "stderr",
     "output_type": "stream",
     "text": [
      "/usr/lib/python3.7/site-packages/sklearn/linear_model/logistic.py:432: FutureWarning: Default solver will be changed to 'lbfgs' in 0.22. Specify a solver to silence this warning.\n",
      "  FutureWarning)\n"
     ]
    },
    {
     "data": {
      "text/plain": [
       "0.8609898107714702"
      ]
     },
     "execution_count": 232,
     "metadata": {},
     "output_type": "execute_result"
    }
   ],
   "source": [
    "from sklearn.linear_model import LogisticRegression\n",
    "logreg = LogisticRegression()\n",
    "logreg.fit(X_train, y_train)\n",
    "logreg.score(X_test, y_test)"
   ]
  },
  {
   "cell_type": "code",
   "execution_count": 233,
   "metadata": {},
   "outputs": [
    {
     "name": "stderr",
     "output_type": "stream",
     "text": [
      "/usr/lib/python3.7/site-packages/sklearn/linear_model/logistic.py:432: FutureWarning: Default solver will be changed to 'lbfgs' in 0.22. Specify a solver to silence this warning.\n",
      "  FutureWarning)\n",
      "/usr/lib/python3.7/site-packages/sklearn/linear_model/logistic.py:432: FutureWarning: Default solver will be changed to 'lbfgs' in 0.22. Specify a solver to silence this warning.\n",
      "  FutureWarning)\n",
      "/usr/lib/python3.7/site-packages/sklearn/linear_model/logistic.py:432: FutureWarning: Default solver will be changed to 'lbfgs' in 0.22. Specify a solver to silence this warning.\n",
      "  FutureWarning)\n",
      "/usr/lib/python3.7/site-packages/sklearn/linear_model/logistic.py:432: FutureWarning: Default solver will be changed to 'lbfgs' in 0.22. Specify a solver to silence this warning.\n",
      "  FutureWarning)\n"
     ]
    },
    {
     "name": "stdout",
     "output_type": "stream",
     "text": [
      "[0.87700146 0.85080058 0.85225619 0.8580786  0.80772032]\n",
      "cv_scores mean:0.8491714294498495\n"
     ]
    },
    {
     "name": "stderr",
     "output_type": "stream",
     "text": [
      "/usr/lib/python3.7/site-packages/sklearn/linear_model/logistic.py:432: FutureWarning: Default solver will be changed to 'lbfgs' in 0.22. Specify a solver to silence this warning.\n",
      "  FutureWarning)\n"
     ]
    }
   ],
   "source": [
    "logreg_cv = LogisticRegression()\n",
    "#train model with cv of 5 \n",
    "cv_scores = cross_val_score(logreg_cv, X, y, cv=5)\n",
    "#print each cv score (accuracy) and average them\n",
    "print(cv_scores)\n",
    "print('cv_scores mean:{}'.format(np.mean(cv_scores)))"
   ]
  },
  {
   "cell_type": "markdown",
   "metadata": {},
   "source": [
    "# SVC"
   ]
  },
  {
   "cell_type": "code",
   "execution_count": 234,
   "metadata": {},
   "outputs": [
    {
     "name": "stderr",
     "output_type": "stream",
     "text": [
      "/usr/lib/python3.7/site-packages/sklearn/svm/base.py:193: FutureWarning: The default value of gamma will change from 'auto' to 'scale' in version 0.22 to account better for unscaled features. Set gamma explicitly to 'auto' or 'scale' to avoid this warning.\n",
      "  \"avoid this warning.\", FutureWarning)\n"
     ]
    },
    {
     "data": {
      "text/plain": [
       "0.9002911208151383"
      ]
     },
     "execution_count": 234,
     "metadata": {},
     "output_type": "execute_result"
    }
   ],
   "source": [
    "from sklearn.svm import SVC\n",
    "svc = SVC(probability=True)\n",
    "svc.fit(X_train, y_train)\n",
    "svc.score(X_test, y_test)"
   ]
  },
  {
   "cell_type": "code",
   "execution_count": 235,
   "metadata": {},
   "outputs": [
    {
     "name": "stderr",
     "output_type": "stream",
     "text": [
      "/usr/lib/python3.7/site-packages/sklearn/svm/base.py:193: FutureWarning: The default value of gamma will change from 'auto' to 'scale' in version 0.22 to account better for unscaled features. Set gamma explicitly to 'auto' or 'scale' to avoid this warning.\n",
      "  \"avoid this warning.\", FutureWarning)\n",
      "/usr/lib/python3.7/site-packages/sklearn/svm/base.py:193: FutureWarning: The default value of gamma will change from 'auto' to 'scale' in version 0.22 to account better for unscaled features. Set gamma explicitly to 'auto' or 'scale' to avoid this warning.\n",
      "  \"avoid this warning.\", FutureWarning)\n",
      "/usr/lib/python3.7/site-packages/sklearn/svm/base.py:193: FutureWarning: The default value of gamma will change from 'auto' to 'scale' in version 0.22 to account better for unscaled features. Set gamma explicitly to 'auto' or 'scale' to avoid this warning.\n",
      "  \"avoid this warning.\", FutureWarning)\n",
      "/usr/lib/python3.7/site-packages/sklearn/svm/base.py:193: FutureWarning: The default value of gamma will change from 'auto' to 'scale' in version 0.22 to account better for unscaled features. Set gamma explicitly to 'auto' or 'scale' to avoid this warning.\n",
      "  \"avoid this warning.\", FutureWarning)\n",
      "/usr/lib/python3.7/site-packages/sklearn/svm/base.py:193: FutureWarning: The default value of gamma will change from 'auto' to 'scale' in version 0.22 to account better for unscaled features. Set gamma explicitly to 'auto' or 'scale' to avoid this warning.\n",
      "  \"avoid this warning.\", FutureWarning)\n"
     ]
    },
    {
     "name": "stdout",
     "output_type": "stream",
     "text": [
      "[0.56331878 0.56331878 0.56259098 0.56259098 0.5622724 ]\n",
      "cv_scores mean:0.5628183802614575\n"
     ]
    }
   ],
   "source": [
    "svc_cv = SVC(probability=True)\n",
    "#train model with cv of 5 \n",
    "cv_scores = cross_val_score(svc_cv, X, y, cv=5)\n",
    "#print each cv score (accuracy) and average them\n",
    "print(cv_scores)\n",
    "print('cv_scores mean:{}'.format(np.mean(cv_scores)))"
   ]
  },
  {
   "cell_type": "markdown",
   "metadata": {},
   "source": [
    "# MLP"
   ]
  },
  {
   "cell_type": "code",
   "execution_count": 236,
   "metadata": {},
   "outputs": [
    {
     "data": {
      "text/plain": [
       "0.8901018922852983"
      ]
     },
     "execution_count": 236,
     "metadata": {},
     "output_type": "execute_result"
    }
   ],
   "source": [
    "from sklearn.neural_network import MLPClassifier\n",
    "reg = MLPClassifier(hidden_layer_sizes=(100), alpha=0.01, max_iter=1000, early_stopping=True)\n",
    "reg.fit(X_train, y_train)\n",
    "reg.score(X_test, y_test)"
   ]
  },
  {
   "cell_type": "code",
   "execution_count": 237,
   "metadata": {},
   "outputs": [
    {
     "name": "stdout",
     "output_type": "stream",
     "text": [
      "[0.84788937 0.85080058 0.84352256 0.85371179 0.798252  ]\n",
      "cv_scores mean:0.8388352623002785\n"
     ]
    }
   ],
   "source": [
    "reg_cv = MLPClassifier(hidden_layer_sizes=(500), alpha=0.001, max_iter=1000, early_stopping=True)\n",
    "#train model with cv of 5 \n",
    "cv_scores = cross_val_score(reg_cv, X, y, cv=5)\n",
    "#print each cv score (accuracy) and average them\n",
    "print(cv_scores)\n",
    "print('cv_scores mean:{}'.format(np.mean(cv_scores)))"
   ]
  },
  {
   "cell_type": "code",
   "execution_count": 238,
   "metadata": {},
   "outputs": [
    {
     "name": "stdout",
     "output_type": "stream",
     "text": [
      "[[690  83]\n",
      " [ 68 533]]\n",
      "              precision    recall  f1-score   support\n",
      "\n",
      "         0.0       0.91      0.89      0.90       773\n",
      "         1.0       0.87      0.89      0.88       601\n",
      "\n",
      "    accuracy                           0.89      1374\n",
      "   macro avg       0.89      0.89      0.89      1374\n",
      "weighted avg       0.89      0.89      0.89      1374\n",
      "\n"
     ]
    }
   ],
   "source": [
    "print(confusion_matrix(y_test, reg.predict(X_test)))\n",
    "print(classification_report(y_test, reg.predict(X_test)))"
   ]
  },
  {
   "cell_type": "markdown",
   "metadata": {},
   "source": [
    "# analisis de resultados"
   ]
  },
  {
   "cell_type": "code",
   "execution_count": 239,
   "metadata": {},
   "outputs": [
    {
     "data": {
      "image/png": "[encoded data removed]",
      "text/plain": [
       "<Figure size 720x576 with 1 Axes>"
      ]
     },
     "metadata": {
      "needs_background": "light"
     },
     "output_type": "display_data"
    }
   ],
   "source": [
    "from sklearn.metrics import roc_auc_score\n",
    "from sklearn.metrics import roc_curve\n",
    "\n",
    "plt.figure(figsize=(10,8))\n",
    "for classifier, label in zip([knn, clf, logreg, svc, reg],\n",
    "                            [\"K-NN\", \"Desicion-Tree\", \"Log-Reg\", \"SVC\", \"MLP\"]):\n",
    "    cl_roc_auc = roc_auc_score(y_test, classifier.predict(X_test))\n",
    "    fpr, tpr, thresholds = roc_curve(y_test, classifier.predict_proba(X_test)[:,1])\n",
    "    plt.plot(fpr, tpr, label='%s (area = %0.2f)' % (label,cl_roc_auc))\n",
    "\n",
    "plt.plot([0, 1], [0, 1],'k--')\n",
    "plt.xlim([0.0, 1.0])\n",
    "plt.ylim([0.0, 1.05])\n",
    "plt.xlabel('False Positive Rate', fontsize=18)\n",
    "plt.ylabel('True Positive Rate', fontsize=18)\n",
    "plt.title('Receiver operating characteristic', fontsize=20)\n",
    "plt.legend(loc=\"lower right\", fontsize=16)\n",
    "plt.savefig('Log_ROC')\n",
    "plt.show()\n",
    "    "
   ]
  },
  {
   "cell_type": "code",
   "execution_count": 273,
   "metadata": {},
   "outputs": [
    {
     "data": {
      "text/plain": [
       "<matplotlib.legend.Legend at 0x7f439a195690>"
      ]
     },
     "execution_count": 273,
     "metadata": {},
     "output_type": "execute_result"
    },
    {
     "data": {
      "image/png": "[encoded data removed]",
      "text/plain": [
       "<Figure size 720x576 with 1 Axes>"
      ]
     },
     "metadata": {
      "needs_background": "light"
     },
     "output_type": "display_data"
    }
   ],
   "source": [
    "plt.figure(figsize=(10, 8))\n",
    "sns.kdeplot(svc.predict_proba(X_test)[:,1], kernel=\"gau\", label=\"Helada\")\n",
    "# plt.hist(reg.predict_proba(X_test)[:,1], normed=True)\n",
    "sns.kdeplot(svc.predict_proba(X_test)[:,0], kernel=\"gau\", label=\"No-Helada\")\n",
    "# plt.hist(reg.predict_proba(X_test)[:,0], normed=True)\n",
    "\n",
    "plt.xlabel(\"Score prob\", fontsize=18)\n",
    "plt.ylabel(\"KDE\", fontsize=18)\n",
    "plt.title(\"Score distribution for SVM-CLassifier\", fontsize=19)\n",
    "plt.legend(fontsize=16)"
   ]
  },
  {
   "cell_type": "code",
   "execution_count": 242,
   "metadata": {},
   "outputs": [
    {
     "data": {
      "text/plain": [
       "array([0, 0, 0, ..., 0, 1, 0])"
      ]
     },
     "execution_count": 242,
     "metadata": {},
     "output_type": "execute_result"
    }
   ],
   "source": [
    "(logreg.predict_proba(X_test)[:,1] > 0.9).astype(int)"
   ]
  },
  {
   "cell_type": "code",
   "execution_count": null,
   "metadata": {},
   "outputs": [],
   "source": []
  },
  {
   "cell_type": "code",
   "execution_count": null,
   "metadata": {},
   "outputs": [],
   "source": []
  },
  {
   "cell_type": "code",
   "execution_count": null,
   "metadata": {},
   "outputs": [],
   "source": []
  },
  {
   "cell_type": "code",
   "execution_count": null,
   "metadata": {},
   "outputs": [],
   "source": []
  },
  {
   "cell_type": "code",
   "execution_count": null,
   "metadata": {},
   "outputs": [],
   "source": []
  },
  {
   "cell_type": "code",
   "execution_count": null,
   "metadata": {},
   "outputs": [],
   "source": []
  },
  {
   "cell_type": "code",
   "execution_count": null,
   "metadata": {},
   "outputs": [],
   "source": []
  }
 ],
 "metadata": {
  "kernelspec": {
   "display_name": "Python 3",
   "language": "python",
   "name": "python3"
  },
  "language_info": {
   "codemirror_mode": {
    "name": "ipython",
    "version": 3
   },
   "file_extension": ".py",
   "mimetype": "text/x-python",
   "name": "python",
   "nbconvert_exporter": "python",
   "pygments_lexer": "ipython3",
   "version": "3.7.4"
  }
 },
 "nbformat": 4,
 "nbformat_minor": 2
}
