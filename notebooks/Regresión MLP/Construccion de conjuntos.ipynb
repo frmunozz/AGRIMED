{
 "cells": [
  {
   "cell_type": "code",
   "execution_count": 20,
   "metadata": {},
   "outputs": [],
   "source": [
    "import pandas as pd\n",
    "import numpy as np\n",
    "import glob\n",
    "import os\n",
    "import ntpath"
   ]
  },
  {
   "cell_type": "code",
   "execution_count": 3,
   "metadata": {},
   "outputs": [],
   "source": [
    "def conjunto(path,jump,reg):\n",
    "    #path = '.\\\\npy_jump_reg4_5\\\\train\\\\'\n",
    "    outpath='npy_jump_reg'+str(jump)+'_'+str(reg)+'\\\\conjunto'\n",
    "    \n",
    "    files = [f for f in glob.glob(path + \"**/*.npy\", recursive=True)]\n",
    "\n",
    "    X=[]\n",
    "    Y=[]\n",
    "    for f in files:\n",
    "        data=np.load(f)\n",
    "        rows=data.shape[0]\n",
    "        columns=data.shape[1]\n",
    "        y=data[reg:rows,0:-2]\n",
    "        #print(y)\n",
    "        x_array=[]\n",
    "        for i in range(reg):\n",
    "            x_array.append(data[i:rows-reg+i,0:columns])\n",
    "        x=np.concatenate(x_array, axis=1)\n",
    "        X.append(x)\n",
    "        Y.append(y)\n",
    "    \n",
    "    np.save(path+'X_unido', np.concatenate(X))\n",
    "    np.save(path+'Y_unido', np.concatenate(Y))"
   ]
  },
  {
   "cell_type": "code",
   "execution_count": 4,
   "metadata": {},
   "outputs": [],
   "source": [
    "conjunto('.\\\\npy_jump_reg4_5\\\\train\\\\',4,5)"
   ]
  }
 ],
 "metadata": {
  "kernelspec": {
   "display_name": "Python 3",
   "language": "python",
   "name": "python3"
  },
  "language_info": {
   "codemirror_mode": {
    "name": "ipython",
    "version": 3
   },
   "file_extension": ".py",
   "mimetype": "text/x-python",
   "name": "python",
   "nbconvert_exporter": "python",
   "pygments_lexer": "ipython3",
   "version": "3.7.3"
  }
 },
 "nbformat": 4,
 "nbformat_minor": 2
}
