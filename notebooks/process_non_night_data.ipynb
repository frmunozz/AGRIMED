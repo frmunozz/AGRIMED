{
 "cells": [
  {
   "cell_type": "code",
   "execution_count": 1,
   "metadata": {},
   "outputs": [],
   "source": [
    "import multiprocessing as mp\n",
    "import pandas as pd\n",
    "import numpy as np\n",
    "import glob\n",
    "from datetime import date, datetime, time, timedelta\n",
    "from collections import defaultdict\n",
    "import os"
   ]
  },
  {
   "cell_type": "markdown",
   "metadata": {},
   "source": [
    "# reduccion de datos: sin mediciones durante la noche\n",
    "\n",
    "existen algunas estaciones que pierden datos. Esto se vuelve un problema grave si estos datos perdidos son en el periodo de noche. Para nuestro trabajo, eliminaremos estos dias de la medicion dado que no nos sirven para entrenar.\n",
    "\n",
    "* Consideraremos el rango de 20 hrs a 10 hrs (14 horas de intervalo)\n",
    "* esperaremos tenemos almenos 8 hrs de medicion, sin importan si estan entre cortadas, esto significa, 32 datos\n",
    "* para trabajar mas facilmente, desplazaremos el dia en +4 hrs, de forma que las 24 hrs sean las 00 horas del dia siguiente y las 10 hrs del dia siguiente sean las 14 hrs, esto facilitara el filtrado\n"
   ]
  },
  {
   "cell_type": "code",
   "execution_count": 2,
   "metadata": {},
   "outputs": [
    {
     "name": "stdout",
     "output_type": "stream",
     "text": [
      "../data/cleared\\VALPARAISO\\SANTA MARIA.csv                                                          \r"
     ]
    }
   ],
   "source": [
    "# primero cargamos los datos limpiados en la iteracion anterior\n",
    "\n",
    "path = \"../data/cleared\"\n",
    "dfs = []\n",
    "dict_meta = {\"region\": [], \"estacion\": [], \"codigo\": []}\n",
    "for file in glob.glob(path + \"/*/*\"):\n",
    "    print(file + \" \" * 30, end=\"\\r\")\n",
    "    file = file.replace(\"\\\\\", \"/\")\n",
    "    dict_meta[\"region\"].append(file.split(\"/\")[-2])\n",
    "    dict_meta[\"estacion\"].append(file.split(\"/\")[-1].split(\".\")[0])\n",
    "    df = pd.read_csv(file)\n",
    "    dict_meta[\"codigo\"].append(df[\"Codigo\"][0])\n",
    "    dfs.append(df)"
   ]
  },
  {
   "cell_type": "code",
   "execution_count": 3,
   "metadata": {},
   "outputs": [],
   "source": [
    "# luego juntaremos estos datos en un solo dataframe, ordenando por el par (codigo, fecha, hora)\n",
    "\n",
    "df = pd.concat(dfs, ignore_index=True)\n",
    "df = df.sort_values(by=['Codigo', 'Fecha', 'Hora'])\n",
    "df = df.reset_index(drop=True)"
   ]
  },
  {
   "cell_type": "code",
   "execution_count": 4,
   "metadata": {},
   "outputs": [
    {
     "data": {
      "text/plain": [
       "Index(['Codigo', 'Fecha', 'Hora', 'Temperatura', 'Humedad',\n",
       "       'Direccion de Viento', 'Velocidad de Viento', 'Precipitacion',\n",
       "       'Radiacion Solar', 'Presion Atmosferica'],\n",
       "      dtype='object')"
      ]
     },
     "execution_count": 4,
     "metadata": {},
     "output_type": "execute_result"
    }
   ],
   "source": [
    "df.columns"
   ]
  },
  {
   "cell_type": "code",
   "execution_count": 5,
   "metadata": {},
   "outputs": [],
   "source": [
    "# obtenemos la matriz de los datos y agregamos 2 columnas extras, para el datetime y el datetime desplazado\n",
    "\n",
    "data = df.values\n",
    "dummy = np.full((data.shape[0], 2), None)\n",
    "data = np.append(data, dummy, axis=1)"
   ]
  },
  {
   "cell_type": "code",
   "execution_count": 6,
   "metadata": {},
   "outputs": [
    {
     "data": {
      "text/plain": [
       "(5301924, 12)"
      ]
     },
     "execution_count": 6,
     "metadata": {},
     "output_type": "execute_result"
    }
   ],
   "source": [
    "data.shape"
   ]
  },
  {
   "cell_type": "code",
   "execution_count": 15,
   "metadata": {},
   "outputs": [
    {
     "name": "stdout",
     "output_type": "stream",
     "text": [
      "obteniendo sub rangos ... \n",
      "starting workers ....\n",
      "launching worker for [0,220913]\n"
     ]
    },
    {
     "ename": "BrokenPipeError",
     "evalue": "[Errno 32] Broken pipe",
     "output_type": "error",
     "traceback": [
      "\u001b[1;31m---------------------------------------------------------------------------\u001b[0m",
      "\u001b[1;31mBrokenPipeError\u001b[0m                           Traceback (most recent call last)",
      "\u001b[1;32m<ipython-input-15-527297421756>\u001b[0m in \u001b[0;36m<module>\u001b[1;34m\u001b[0m\n\u001b[0;32m     70\u001b[0m \u001b[1;31m# compute_datetime(data, 0, 50, None)\u001b[0m\u001b[1;33m\u001b[0m\u001b[1;33m\u001b[0m\u001b[1;33m\u001b[0m\u001b[0m\n\u001b[0;32m     71\u001b[0m \u001b[1;31m# data\u001b[0m\u001b[1;33m\u001b[0m\u001b[1;33m\u001b[0m\u001b[1;33m\u001b[0m\u001b[0m\n\u001b[1;32m---> 72\u001b[1;33m \u001b[0mrun_compute_datetime\u001b[0m\u001b[1;33m(\u001b[0m\u001b[0mdata\u001b[0m\u001b[1;33m,\u001b[0m \u001b[1;36m24\u001b[0m\u001b[1;33m)\u001b[0m\u001b[1;33m\u001b[0m\u001b[1;33m\u001b[0m\u001b[0m\n\u001b[0m\u001b[0;32m     73\u001b[0m \u001b[1;31m# df[\"datetime\"] = ddtt\u001b[0m\u001b[1;33m\u001b[0m\u001b[1;33m\u001b[0m\u001b[1;33m\u001b[0m\u001b[0m\n\u001b[0;32m     74\u001b[0m \u001b[1;31m# df[\"displaced_date\"] = displaced_date\u001b[0m\u001b[1;33m\u001b[0m\u001b[1;33m\u001b[0m\u001b[1;33m\u001b[0m\u001b[0m\n",
      "\u001b[1;32m<ipython-input-15-527297421756>\u001b[0m in \u001b[0;36mrun_compute_datetime\u001b[1;34m(data, N)\u001b[0m\n\u001b[0;32m     42\u001b[0m         \u001b[0mprint\u001b[0m\u001b[1;33m(\u001b[0m\u001b[1;34m\"launching worker for [{},{}]\"\u001b[0m\u001b[1;33m.\u001b[0m\u001b[0mformat\u001b[0m\u001b[1;33m(\u001b[0m\u001b[0mini\u001b[0m\u001b[1;33m,\u001b[0m \u001b[0mend\u001b[0m\u001b[1;33m)\u001b[0m\u001b[1;33m)\u001b[0m\u001b[1;33m\u001b[0m\u001b[1;33m\u001b[0m\u001b[0m\n\u001b[0;32m     43\u001b[0m         \u001b[0mjobs\u001b[0m\u001b[1;33m.\u001b[0m\u001b[0mappend\u001b[0m\u001b[1;33m(\u001b[0m\u001b[0mmp\u001b[0m\u001b[1;33m.\u001b[0m\u001b[0mProcess\u001b[0m\u001b[1;33m(\u001b[0m\u001b[0mtarget\u001b[0m\u001b[1;33m=\u001b[0m\u001b[0mworker\u001b[0m\u001b[1;33m,\u001b[0m \u001b[0margs\u001b[0m\u001b[1;33m=\u001b[0m\u001b[1;33m(\u001b[0m\u001b[0mdata\u001b[0m\u001b[1;33m,\u001b[0m \u001b[0mini\u001b[0m\u001b[1;33m,\u001b[0m \u001b[0mend\u001b[0m\u001b[1;33m)\u001b[0m\u001b[1;33m)\u001b[0m\u001b[1;33m)\u001b[0m\u001b[1;33m\u001b[0m\u001b[1;33m\u001b[0m\u001b[0m\n\u001b[1;32m---> 44\u001b[1;33m         \u001b[0mjobs\u001b[0m\u001b[1;33m[\u001b[0m\u001b[1;33m-\u001b[0m\u001b[1;36m1\u001b[0m\u001b[1;33m]\u001b[0m\u001b[1;33m.\u001b[0m\u001b[0mstart\u001b[0m\u001b[1;33m(\u001b[0m\u001b[1;33m)\u001b[0m\u001b[1;33m\u001b[0m\u001b[1;33m\u001b[0m\u001b[0m\n\u001b[0m\u001b[0;32m     45\u001b[0m     \u001b[0mprint\u001b[0m\u001b[1;33m(\u001b[0m\u001b[1;34m\"waiting workers ...\"\u001b[0m\u001b[1;33m)\u001b[0m\u001b[1;33m\u001b[0m\u001b[1;33m\u001b[0m\u001b[0m\n\u001b[0;32m     46\u001b[0m     \u001b[1;32mfor\u001b[0m \u001b[0mp\u001b[0m \u001b[1;32min\u001b[0m \u001b[0mjobs\u001b[0m\u001b[1;33m:\u001b[0m\u001b[1;33m\u001b[0m\u001b[1;33m\u001b[0m\u001b[0m\n",
      "\u001b[1;32mc:\\programdata\\miniconda3\\lib\\multiprocessing\\process.py\u001b[0m in \u001b[0;36mstart\u001b[1;34m(self)\u001b[0m\n\u001b[0;32m    110\u001b[0m                \u001b[1;34m'daemonic processes are not allowed to have children'\u001b[0m\u001b[1;33m\u001b[0m\u001b[1;33m\u001b[0m\u001b[0m\n\u001b[0;32m    111\u001b[0m         \u001b[0m_cleanup\u001b[0m\u001b[1;33m(\u001b[0m\u001b[1;33m)\u001b[0m\u001b[1;33m\u001b[0m\u001b[1;33m\u001b[0m\u001b[0m\n\u001b[1;32m--> 112\u001b[1;33m         \u001b[0mself\u001b[0m\u001b[1;33m.\u001b[0m\u001b[0m_popen\u001b[0m \u001b[1;33m=\u001b[0m \u001b[0mself\u001b[0m\u001b[1;33m.\u001b[0m\u001b[0m_Popen\u001b[0m\u001b[1;33m(\u001b[0m\u001b[0mself\u001b[0m\u001b[1;33m)\u001b[0m\u001b[1;33m\u001b[0m\u001b[1;33m\u001b[0m\u001b[0m\n\u001b[0m\u001b[0;32m    113\u001b[0m         \u001b[0mself\u001b[0m\u001b[1;33m.\u001b[0m\u001b[0m_sentinel\u001b[0m \u001b[1;33m=\u001b[0m \u001b[0mself\u001b[0m\u001b[1;33m.\u001b[0m\u001b[0m_popen\u001b[0m\u001b[1;33m.\u001b[0m\u001b[0msentinel\u001b[0m\u001b[1;33m\u001b[0m\u001b[1;33m\u001b[0m\u001b[0m\n\u001b[0;32m    114\u001b[0m         \u001b[1;31m# Avoid a refcycle if the target function holds an indirect\u001b[0m\u001b[1;33m\u001b[0m\u001b[1;33m\u001b[0m\u001b[1;33m\u001b[0m\u001b[0m\n",
      "\u001b[1;32mc:\\programdata\\miniconda3\\lib\\multiprocessing\\context.py\u001b[0m in \u001b[0;36m_Popen\u001b[1;34m(process_obj)\u001b[0m\n\u001b[0;32m    221\u001b[0m     \u001b[1;33m@\u001b[0m\u001b[0mstaticmethod\u001b[0m\u001b[1;33m\u001b[0m\u001b[1;33m\u001b[0m\u001b[0m\n\u001b[0;32m    222\u001b[0m     \u001b[1;32mdef\u001b[0m \u001b[0m_Popen\u001b[0m\u001b[1;33m(\u001b[0m\u001b[0mprocess_obj\u001b[0m\u001b[1;33m)\u001b[0m\u001b[1;33m:\u001b[0m\u001b[1;33m\u001b[0m\u001b[1;33m\u001b[0m\u001b[0m\n\u001b[1;32m--> 223\u001b[1;33m         \u001b[1;32mreturn\u001b[0m \u001b[0m_default_context\u001b[0m\u001b[1;33m.\u001b[0m\u001b[0mget_context\u001b[0m\u001b[1;33m(\u001b[0m\u001b[1;33m)\u001b[0m\u001b[1;33m.\u001b[0m\u001b[0mProcess\u001b[0m\u001b[1;33m.\u001b[0m\u001b[0m_Popen\u001b[0m\u001b[1;33m(\u001b[0m\u001b[0mprocess_obj\u001b[0m\u001b[1;33m)\u001b[0m\u001b[1;33m\u001b[0m\u001b[1;33m\u001b[0m\u001b[0m\n\u001b[0m\u001b[0;32m    224\u001b[0m \u001b[1;33m\u001b[0m\u001b[0m\n\u001b[0;32m    225\u001b[0m \u001b[1;32mclass\u001b[0m \u001b[0mDefaultContext\u001b[0m\u001b[1;33m(\u001b[0m\u001b[0mBaseContext\u001b[0m\u001b[1;33m)\u001b[0m\u001b[1;33m:\u001b[0m\u001b[1;33m\u001b[0m\u001b[1;33m\u001b[0m\u001b[0m\n",
      "\u001b[1;32mc:\\programdata\\miniconda3\\lib\\multiprocessing\\context.py\u001b[0m in \u001b[0;36m_Popen\u001b[1;34m(process_obj)\u001b[0m\n\u001b[0;32m    320\u001b[0m         \u001b[1;32mdef\u001b[0m \u001b[0m_Popen\u001b[0m\u001b[1;33m(\u001b[0m\u001b[0mprocess_obj\u001b[0m\u001b[1;33m)\u001b[0m\u001b[1;33m:\u001b[0m\u001b[1;33m\u001b[0m\u001b[1;33m\u001b[0m\u001b[0m\n\u001b[0;32m    321\u001b[0m             \u001b[1;32mfrom\u001b[0m \u001b[1;33m.\u001b[0m\u001b[0mpopen_spawn_win32\u001b[0m \u001b[1;32mimport\u001b[0m \u001b[0mPopen\u001b[0m\u001b[1;33m\u001b[0m\u001b[1;33m\u001b[0m\u001b[0m\n\u001b[1;32m--> 322\u001b[1;33m             \u001b[1;32mreturn\u001b[0m \u001b[0mPopen\u001b[0m\u001b[1;33m(\u001b[0m\u001b[0mprocess_obj\u001b[0m\u001b[1;33m)\u001b[0m\u001b[1;33m\u001b[0m\u001b[1;33m\u001b[0m\u001b[0m\n\u001b[0m\u001b[0;32m    323\u001b[0m \u001b[1;33m\u001b[0m\u001b[0m\n\u001b[0;32m    324\u001b[0m     \u001b[1;32mclass\u001b[0m \u001b[0mSpawnContext\u001b[0m\u001b[1;33m(\u001b[0m\u001b[0mBaseContext\u001b[0m\u001b[1;33m)\u001b[0m\u001b[1;33m:\u001b[0m\u001b[1;33m\u001b[0m\u001b[1;33m\u001b[0m\u001b[0m\n",
      "\u001b[1;32mc:\\programdata\\miniconda3\\lib\\multiprocessing\\popen_spawn_win32.py\u001b[0m in \u001b[0;36m__init__\u001b[1;34m(self, process_obj)\u001b[0m\n\u001b[0;32m     87\u001b[0m             \u001b[1;32mtry\u001b[0m\u001b[1;33m:\u001b[0m\u001b[1;33m\u001b[0m\u001b[1;33m\u001b[0m\u001b[0m\n\u001b[0;32m     88\u001b[0m                 \u001b[0mreduction\u001b[0m\u001b[1;33m.\u001b[0m\u001b[0mdump\u001b[0m\u001b[1;33m(\u001b[0m\u001b[0mprep_data\u001b[0m\u001b[1;33m,\u001b[0m \u001b[0mto_child\u001b[0m\u001b[1;33m)\u001b[0m\u001b[1;33m\u001b[0m\u001b[1;33m\u001b[0m\u001b[0m\n\u001b[1;32m---> 89\u001b[1;33m                 \u001b[0mreduction\u001b[0m\u001b[1;33m.\u001b[0m\u001b[0mdump\u001b[0m\u001b[1;33m(\u001b[0m\u001b[0mprocess_obj\u001b[0m\u001b[1;33m,\u001b[0m \u001b[0mto_child\u001b[0m\u001b[1;33m)\u001b[0m\u001b[1;33m\u001b[0m\u001b[1;33m\u001b[0m\u001b[0m\n\u001b[0m\u001b[0;32m     90\u001b[0m             \u001b[1;32mfinally\u001b[0m\u001b[1;33m:\u001b[0m\u001b[1;33m\u001b[0m\u001b[1;33m\u001b[0m\u001b[0m\n\u001b[0;32m     91\u001b[0m                 \u001b[0mset_spawning_popen\u001b[0m\u001b[1;33m(\u001b[0m\u001b[1;32mNone\u001b[0m\u001b[1;33m)\u001b[0m\u001b[1;33m\u001b[0m\u001b[1;33m\u001b[0m\u001b[0m\n",
      "\u001b[1;32mc:\\programdata\\miniconda3\\lib\\multiprocessing\\reduction.py\u001b[0m in \u001b[0;36mdump\u001b[1;34m(obj, file, protocol)\u001b[0m\n\u001b[0;32m     58\u001b[0m \u001b[1;32mdef\u001b[0m \u001b[0mdump\u001b[0m\u001b[1;33m(\u001b[0m\u001b[0mobj\u001b[0m\u001b[1;33m,\u001b[0m \u001b[0mfile\u001b[0m\u001b[1;33m,\u001b[0m \u001b[0mprotocol\u001b[0m\u001b[1;33m=\u001b[0m\u001b[1;32mNone\u001b[0m\u001b[1;33m)\u001b[0m\u001b[1;33m:\u001b[0m\u001b[1;33m\u001b[0m\u001b[1;33m\u001b[0m\u001b[0m\n\u001b[0;32m     59\u001b[0m     \u001b[1;34m'''Replacement for pickle.dump() using ForkingPickler.'''\u001b[0m\u001b[1;33m\u001b[0m\u001b[1;33m\u001b[0m\u001b[0m\n\u001b[1;32m---> 60\u001b[1;33m     \u001b[0mForkingPickler\u001b[0m\u001b[1;33m(\u001b[0m\u001b[0mfile\u001b[0m\u001b[1;33m,\u001b[0m \u001b[0mprotocol\u001b[0m\u001b[1;33m)\u001b[0m\u001b[1;33m.\u001b[0m\u001b[0mdump\u001b[0m\u001b[1;33m(\u001b[0m\u001b[0mobj\u001b[0m\u001b[1;33m)\u001b[0m\u001b[1;33m\u001b[0m\u001b[1;33m\u001b[0m\u001b[0m\n\u001b[0m\u001b[0;32m     61\u001b[0m \u001b[1;33m\u001b[0m\u001b[0m\n\u001b[0;32m     62\u001b[0m \u001b[1;31m#\u001b[0m\u001b[1;33m\u001b[0m\u001b[1;33m\u001b[0m\u001b[1;33m\u001b[0m\u001b[0m\n",
      "\u001b[1;31mBrokenPipeError\u001b[0m: [Errno 32] Broken pipe"
     ]
    }
   ],
   "source": [
    "# entonces primero calculamos los datetime y los agregamos a la matriz de datos\n",
    "# para gilizar, definimos multiprocessing\n",
    "\n",
    "def worker(data, ini, end):\n",
    "    print(\"starting worker range [{}, {}]... \".format(ini, end), end=\"\")\n",
    "#     ddtt = []\n",
    "#     displaced_date = []\n",
    "#     deltatime = timedelta(hours = 5)\n",
    "#     c = 0\n",
    "#     for i in range(ini, end):\n",
    "#         d = data[i][1]\n",
    "#         t = data[i][2]\n",
    "#         if \" \" in d:\n",
    "#             d = d.split(\" \")[0]\n",
    "#             datm = datetime.strptime(d + \" \" + t, '%Y-%m-%d %H:%M:%S')\n",
    "#         elif \"-\" in d:\n",
    "#             datm = datetime.strptime(d + \" \" + t, '%Y-%m-%d %H:%M:%S')\n",
    "#         else:\n",
    "#             datm = datetime.strptime(d + \" \" + t, '%d/%m/%Y %H:%M:%S')\n",
    "        \n",
    "#         data[i][10] = (datm + deltatime).__str__()\n",
    "#         data[i][11] = datm\n",
    "# #         displaced_date.append((datm + deltatime).date().__str__())\n",
    "# #         ddtt.append(datm)\n",
    "#         c += 1\n",
    "# #     out_q.put(c)\n",
    "    print(\"done\")\n",
    "    \n",
    "def run_compute_datetime(data, N):\n",
    "    \n",
    "    # obtenemos los indices de los subrangos\n",
    "    print(\"obteniendo sub rangos ... \")\n",
    "    r = data.shape[0] // N\n",
    "    idxs = np.arange(N + 1) * r\n",
    "    \n",
    "    # lanzamos los workers\n",
    "    print(\"starting workers ....\")\n",
    "    jobs = []\n",
    "    for i in range(len(idxs)-1):\n",
    "        ini = idxs[i]\n",
    "        end = idxs[i+1]\n",
    "        print(\"launching worker for [{},{}]\".format(ini, end))\n",
    "        jobs.append(mp.Process(target=worker, args=(data, ini, end)))\n",
    "        jobs[-1].start()\n",
    "    print(\"waiting workers ...\")\n",
    "    for p in jobs:\n",
    "        p.join()\n",
    "        \n",
    "\n",
    "# ddtt = []\n",
    "# displaced_date = []\n",
    "# # create datetime object and displaceit by -19 hours\n",
    "# deltatime = timedelta(hours = 5)\n",
    "# c = 0\n",
    "# print(len(ddate))\n",
    "# for d, t in zip(ddate, dtime):\n",
    "    \n",
    "#     if c % 10000 == 0:\n",
    "#         print(c, end=\"\\r\")\n",
    "#     if \" \" in d:\n",
    "#         d = d.split(\" \")[0]\n",
    "#         datm = datetime.strptime(d + \" \" + t, '%Y-%m-%d %H:%M:%S')\n",
    "#     elif \"-\" in d:\n",
    "#         datm = datetime.strptime(d + \" \" + t, '%Y-%m-%d %H:%M:%S')\n",
    "#     else:\n",
    "#         datm = datetime.strptime(d + \" \" + t, '%d/%m/%Y %H:%M:%S')\n",
    "#     displaced_date.append((datm + deltatime).date().__str__())\n",
    "#     ddtt.append(datm)\n",
    "#     c += 1\n",
    "# compute_datetime(data, 0, 50, None)\n",
    "# data\n",
    "run_compute_datetime(data, 24)  \n",
    "# df[\"datetime\"] = ddtt\n",
    "# df[\"displaced_date\"] = displaced_date\n",
    "# df.count()"
   ]
  },
  {
   "cell_type": "code",
   "execution_count": 34,
   "metadata": {},
   "outputs": [
    {
     "data": {
      "text/plain": [
       "array([[13, '2010-06-11', '12:15:00', ..., 1008.0, '2010-06-11 17:15:00',\n",
       "        datetime.datetime(2010, 6, 11, 12, 15)],\n",
       "       [13, '2010-06-11', '12:30:00', ..., 1007.0, '2010-06-11 17:30:00',\n",
       "        datetime.datetime(2010, 6, 11, 12, 30)],\n",
       "       [13, '2010-06-11', '12:45:00', ..., 1007.0, '2010-06-11 17:45:00',\n",
       "        datetime.datetime(2010, 6, 11, 12, 45)],\n",
       "       ...,\n",
       "       [450050, '2010-06-30', '02:30:00', ..., 1016.0, None, None],\n",
       "       [450050, '2010-06-30', '02:45:00', ..., 1015.9, None, None],\n",
       "       [450050, '2010-06-30', '03:00:00', ..., 1016.0, None, None]],\n",
       "      dtype=object)"
      ]
     },
     "execution_count": 34,
     "metadata": {},
     "output_type": "execute_result"
    }
   ],
   "source": [
    "data"
   ]
  },
  {
   "cell_type": "code",
   "execution_count": null,
   "metadata": {},
   "outputs": [],
   "source": [
    "datetime_arr = []\n",
    "displaced_date_arr = []\n",
    "qlen = rqueue.qsize()\n",
    "while qlen > 0:\n",
    "    ddtt_v, dispddtt_v = rqueue.get()\n",
    "    datetime_arr.extend(ddtt_v)\n",
    "    displaced_date_arr.extend(dispddtt_v)\n",
    "    \n"
   ]
  },
  {
   "cell_type": "code",
   "execution_count": 16,
   "metadata": {},
   "outputs": [
    {
     "data": {
      "text/plain": [
       "array([ 0,  5, 10, 15, 20, 25, 30, 35, 40, 45, 50, 55, 60, 65, 70, 75, 80,\n",
       "       85, 90, 95])"
      ]
     },
     "execution_count": 16,
     "metadata": {},
     "output_type": "execute_result"
    }
   ],
   "source": [
    "a = 100\n",
    "N = 20 \n",
    "r = a // N\n",
    "x = np.arange(N) * r\n",
    "x"
   ]
  },
  {
   "cell_type": "code",
   "execution_count": 7,
   "metadata": {},
   "outputs": [
    {
     "data": {
      "text/plain": [
       "Codigo                 5257742\n",
       "Fecha                  5257742\n",
       "Hora                   5257742\n",
       "Temperatura            5257742\n",
       "Humedad                5257742\n",
       "Direccion de Viento    5257742\n",
       "Velocidad de Viento    5257742\n",
       "Precipitacion          5257742\n",
       "Radiacion Solar        5257742\n",
       "Presion Atmosferica    5257742\n",
       "datetime               5257742\n",
       "displaced_date         5257742\n",
       "dtype: int64"
      ]
     },
     "execution_count": 7,
     "metadata": {},
     "output_type": "execute_result"
    }
   ],
   "source": [
    "df2v = df.drop_duplicates(subset=['Codigo', 'Fecha', 'Hora'], keep=\"first\")\n",
    "df2v.count()"
   ]
  },
  {
   "cell_type": "code",
   "execution_count": null,
   "metadata": {},
   "outputs": [],
   "source": []
  }
 ],
 "metadata": {
  "kernelspec": {
   "display_name": "Python 3",
   "language": "python",
   "name": "python3"
  },
  "language_info": {
   "codemirror_mode": {
    "name": "ipython",
    "version": 3
   },
   "file_extension": ".py",
   "mimetype": "text/x-python",
   "name": "python",
   "nbconvert_exporter": "python",
   "pygments_lexer": "ipython3",
   "version": "3.7.3"
  }
 },
 "nbformat": 4,
 "nbformat_minor": 2
}
