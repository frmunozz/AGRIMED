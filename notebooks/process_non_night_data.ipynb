{
 "cells": [
  {
   "cell_type": "code",
   "execution_count": 1,
   "metadata": {},
   "outputs": [],
   "source": [
    "import multiprocessing as mp\n",
    "import pandas as pd\n",
    "import numpy as np\n",
    "import glob\n",
    "from datetime import date, datetime, time, timedelta\n",
    "from collections import defaultdict\n",
    "import os"
   ]
  },
  {
   "cell_type": "markdown",
   "metadata": {},
   "source": [
    "# reduccion de datos: sin mediciones durante la noche\n",
    "\n",
    "existen algunas estaciones que pierden datos. Esto se vuelve un problema grave si estos datos perdidos son en el periodo de 19 hrs de un dia y 9 hrs del dia siguiente. Estos datos (intervalo completo de 24 hrs desde las 19 hrs de un dia hasya las 19 hrs del dia siguiente) deben ser identificados y borrados\n"
   ]
  },
  {
   "cell_type": "code",
   "execution_count": 2,
   "metadata": {},
   "outputs": [
    {
     "name": "stdout",
     "output_type": "stream",
     "text": [
      "../data/cleared/VALPARAISO/SANTA MARIA.csv                                                          \r"
     ]
    }
   ],
   "source": [
    "path = \"../data/cleared\"\n",
    "dfs = []\n",
    "dict_meta = {\"region\": [], \"estacion\": [], \"codigo\": []}\n",
    "for file in glob.glob(path + \"/*/*\"):\n",
    "    print(file + \" \" * 30, end=\"\\r\")\n",
    "    file = file.replace(\"\\\\\", \"/\")\n",
    "    dict_meta[\"region\"].append(file.split(\"/\")[-2])\n",
    "    dict_meta[\"estacion\"].append(file.split(\"/\")[-1].split(\".\")[0])\n",
    "    df = pd.read_csv(file)\n",
    "    dict_meta[\"codigo\"].append(df[\"Codigo\"][0])\n",
    "    dfs.append(df)"
   ]
  },
  {
   "cell_type": "code",
   "execution_count": 3,
   "metadata": {},
   "outputs": [],
   "source": [
    "df = pd.concat(dfs, ignore_index=True)\n",
    "df = df.sort_values(by=['Codigo', 'Fecha', 'Hora'])\n",
    "df = df.reset_index(drop=True)"
   ]
  },
  {
   "cell_type": "code",
   "execution_count": 7,
   "metadata": {},
   "outputs": [
    {
     "data": {
      "text/plain": [
       "Index(['Codigo', 'Fecha', 'Hora', 'Temperatura', 'Humedad',\n",
       "       'Direccion de Viento', 'Velocidad de Viento', 'Precipitacion',\n",
       "       'Radiacion Solar', 'Presion Atmosferica'],\n",
       "      dtype='object')"
      ]
     },
     "execution_count": 7,
     "metadata": {},
     "output_type": "execute_result"
    }
   ],
   "source": [
    "df.columns"
   ]
  },
  {
   "cell_type": "code",
   "execution_count": 28,
   "metadata": {},
   "outputs": [],
   "source": [
    "data = df.values\n",
    "dummy = np.full((data.shape[0], 2), None)\n",
    "data = np.append(data, dummy, axis=1)"
   ]
  },
  {
   "cell_type": "code",
   "execution_count": 29,
   "metadata": {},
   "outputs": [
    {
     "data": {
      "text/plain": [
       "(5301924, 12)"
      ]
     },
     "execution_count": 29,
     "metadata": {},
     "output_type": "execute_result"
    }
   ],
   "source": [
    "data.shape"
   ]
  },
  {
   "cell_type": "code",
   "execution_count": 35,
   "metadata": {},
   "outputs": [
    {
     "name": "stdout",
     "output_type": "stream",
     "text": [
      "starting workers ....\n",
      "waiting workers ...\n",
      "starting worker range [0, 220913]... done\n",
      "starting worker range [441826, 662739]... done\n",
      "starting worker range [662739, 883652]... done\n",
      "starting worker range [220913, 441826]... done\n",
      "starting worker range [1325478, 1546391]... done\n",
      "starting worker range [883652, 1104565]... done\n",
      "starting worker range [1104565, 1325478]... done\n",
      "starting worker range [2209130, 2430043]... done\n",
      "starting worker range [1546391, 1767304]... done\n",
      "starting worker range [1767304, 1988217]... done\n",
      "starting worker range [2430043, 2650956]... done\n",
      "starting worker range [1988217, 2209130]... done\n",
      "starting worker range [2650956, 2871869]... done\n",
      "starting worker range [3092782, 3313695]... done\n",
      "starting worker range [3313695, 3534608]... done\n",
      "starting worker range [2871869, 3092782]... done\n",
      "starting worker range [3534608, 3755521]... done\n",
      "starting worker range [3755521, 3976434]... done\n",
      "starting worker range [4197347, 4418260]... done\n",
      "starting worker range [4639173, 4860086]... done\n",
      "starting worker range [3976434, 4197347]... done\n",
      "starting worker range [4418260, 4639173]... done\n",
      "starting worker range [4860086, 5080999]... done\n",
      "starting worker range [5080999, 5301912]... done\n"
     ]
    }
   ],
   "source": [
    "def compute_datetime(data, ini, end):\n",
    "    print(\"starting worker range [{}, {}]... \".format(ini, end), end=\"\")\n",
    "    ddtt = []\n",
    "    displaced_date = []\n",
    "    deltatime = timedelta(hours = 5)\n",
    "    c = 0\n",
    "    for i in range(ini, end):\n",
    "        d = data[i][1]\n",
    "        t = data[i][2]\n",
    "        if \" \" in d:\n",
    "            d = d.split(\" \")[0]\n",
    "            datm = datetime.strptime(d + \" \" + t, '%Y-%m-%d %H:%M:%S')\n",
    "        elif \"-\" in d:\n",
    "            datm = datetime.strptime(d + \" \" + t, '%Y-%m-%d %H:%M:%S')\n",
    "        else:\n",
    "            datm = datetime.strptime(d + \" \" + t, '%d/%m/%Y %H:%M:%S')\n",
    "        \n",
    "        data[i][10] = (datm + deltatime).__str__()\n",
    "        data[i][11] = datm\n",
    "#         displaced_date.append((datm + deltatime).date().__str__())\n",
    "#         ddtt.append(datm)\n",
    "        c += 1\n",
    "#     out_q.put(c)\n",
    "    print(\"done\")\n",
    "    \n",
    "def run_compute_datetime(data, N):\n",
    "    \n",
    "    # obtenemos los indices\n",
    "    r = data.shape[0] // N\n",
    "    idxs = np.arange(N + 1) * r\n",
    "    \n",
    "    # lanzamos los workers\n",
    "    print(\"starting workers ....\")\n",
    "    jobs = []\n",
    "    for i in range(len(idxs)-1):\n",
    "        ini = idxs[i]\n",
    "        end = idxs[i+1]\n",
    "        jobs.append(mp.Process(target=compute_datetime, args=(data, ini, end)))\n",
    "        jobs[-1].start()\n",
    "    print(\"waiting workers ...\")\n",
    "    for p in jobs:\n",
    "        p.join()\n",
    "        \n",
    "\n",
    "# ddtt = []\n",
    "# displaced_date = []\n",
    "# # create datetime object and displaceit by -19 hours\n",
    "# deltatime = timedelta(hours = 5)\n",
    "# c = 0\n",
    "# print(len(ddate))\n",
    "# for d, t in zip(ddate, dtime):\n",
    "    \n",
    "#     if c % 10000 == 0:\n",
    "#         print(c, end=\"\\r\")\n",
    "#     if \" \" in d:\n",
    "#         d = d.split(\" \")[0]\n",
    "#         datm = datetime.strptime(d + \" \" + t, '%Y-%m-%d %H:%M:%S')\n",
    "#     elif \"-\" in d:\n",
    "#         datm = datetime.strptime(d + \" \" + t, '%Y-%m-%d %H:%M:%S')\n",
    "#     else:\n",
    "#         datm = datetime.strptime(d + \" \" + t, '%d/%m/%Y %H:%M:%S')\n",
    "#     displaced_date.append((datm + deltatime).date().__str__())\n",
    "#     ddtt.append(datm)\n",
    "#     c += 1\n",
    "# compute_datetime(data, 0, 50, None)\n",
    "# data\n",
    "run_compute_datetime(data, 24)  \n",
    "# df[\"datetime\"] = ddtt\n",
    "# df[\"displaced_date\"] = displaced_date\n",
    "# df.count()"
   ]
  },
  {
   "cell_type": "code",
   "execution_count": 34,
   "metadata": {},
   "outputs": [
    {
     "data": {
      "text/plain": [
       "array([[13, '2010-06-11', '12:15:00', ..., 1008.0, '2010-06-11 17:15:00',\n",
       "        datetime.datetime(2010, 6, 11, 12, 15)],\n",
       "       [13, '2010-06-11', '12:30:00', ..., 1007.0, '2010-06-11 17:30:00',\n",
       "        datetime.datetime(2010, 6, 11, 12, 30)],\n",
       "       [13, '2010-06-11', '12:45:00', ..., 1007.0, '2010-06-11 17:45:00',\n",
       "        datetime.datetime(2010, 6, 11, 12, 45)],\n",
       "       ...,\n",
       "       [450050, '2010-06-30', '02:30:00', ..., 1016.0, None, None],\n",
       "       [450050, '2010-06-30', '02:45:00', ..., 1015.9, None, None],\n",
       "       [450050, '2010-06-30', '03:00:00', ..., 1016.0, None, None]],\n",
       "      dtype=object)"
      ]
     },
     "execution_count": 34,
     "metadata": {},
     "output_type": "execute_result"
    }
   ],
   "source": [
    "data"
   ]
  },
  {
   "cell_type": "code",
   "execution_count": null,
   "metadata": {},
   "outputs": [],
   "source": [
    "datetime_arr = []\n",
    "displaced_date_arr = []\n",
    "qlen = rqueue.qsize()\n",
    "while qlen > 0:\n",
    "    ddtt_v, dispddtt_v = rqueue.get()\n",
    "    datetime_arr.extend(ddtt_v)\n",
    "    displaced_date_arr.extend(dispddtt_v)\n",
    "    \n"
   ]
  },
  {
   "cell_type": "code",
   "execution_count": 16,
   "metadata": {},
   "outputs": [
    {
     "data": {
      "text/plain": [
       "array([ 0,  5, 10, 15, 20, 25, 30, 35, 40, 45, 50, 55, 60, 65, 70, 75, 80,\n",
       "       85, 90, 95])"
      ]
     },
     "execution_count": 16,
     "metadata": {},
     "output_type": "execute_result"
    }
   ],
   "source": [
    "a = 100\n",
    "N = 20 \n",
    "r = a // N\n",
    "x = np.arange(N) * r\n",
    "x"
   ]
  },
  {
   "cell_type": "code",
   "execution_count": 7,
   "metadata": {},
   "outputs": [
    {
     "data": {
      "text/plain": [
       "Codigo                 5257742\n",
       "Fecha                  5257742\n",
       "Hora                   5257742\n",
       "Temperatura            5257742\n",
       "Humedad                5257742\n",
       "Direccion de Viento    5257742\n",
       "Velocidad de Viento    5257742\n",
       "Precipitacion          5257742\n",
       "Radiacion Solar        5257742\n",
       "Presion Atmosferica    5257742\n",
       "datetime               5257742\n",
       "displaced_date         5257742\n",
       "dtype: int64"
      ]
     },
     "execution_count": 7,
     "metadata": {},
     "output_type": "execute_result"
    }
   ],
   "source": [
    "df2v = df.drop_duplicates(subset=['Codigo', 'Fecha', 'Hora'], keep=\"first\")\n",
    "df2v.count()"
   ]
  },
  {
   "cell_type": "code",
   "execution_count": null,
   "metadata": {},
   "outputs": [],
   "source": []
  }
 ],
 "metadata": {
  "kernelspec": {
   "display_name": "Python 3",
   "language": "python",
   "name": "python3"
  },
  "language_info": {
   "codemirror_mode": {
    "name": "ipython",
    "version": 3
   },
   "file_extension": ".py",
   "mimetype": "text/x-python",
   "name": "python",
   "nbconvert_exporter": "python",
   "pygments_lexer": "ipython3",
   "version": "3.7.4"
  }
 },
 "nbformat": 4,
 "nbformat_minor": 2
}
