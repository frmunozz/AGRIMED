{
 "cells": [
  {
   "cell_type": "code",
   "execution_count": 1,
   "metadata": {},
   "outputs": [
    {
     "name": "stderr",
     "output_type": "stream",
     "text": [
      "Using TensorFlow backend.\n",
      "c:\\programdata\\miniconda3\\lib\\site-packages\\tensorflow\\python\\framework\\dtypes.py:516: FutureWarning: Passing (type, 1) or '1type' as a synonym of type is deprecated; in a future version of numpy, it will be understood as (type, (1,)) / '(1,)type'.\n",
      "  _np_qint8 = np.dtype([(\"qint8\", np.int8, 1)])\n",
      "c:\\programdata\\miniconda3\\lib\\site-packages\\tensorflow\\python\\framework\\dtypes.py:517: FutureWarning: Passing (type, 1) or '1type' as a synonym of type is deprecated; in a future version of numpy, it will be understood as (type, (1,)) / '(1,)type'.\n",
      "  _np_quint8 = np.dtype([(\"quint8\", np.uint8, 1)])\n",
      "c:\\programdata\\miniconda3\\lib\\site-packages\\tensorflow\\python\\framework\\dtypes.py:518: FutureWarning: Passing (type, 1) or '1type' as a synonym of type is deprecated; in a future version of numpy, it will be understood as (type, (1,)) / '(1,)type'.\n",
      "  _np_qint16 = np.dtype([(\"qint16\", np.int16, 1)])\n",
      "c:\\programdata\\miniconda3\\lib\\site-packages\\tensorflow\\python\\framework\\dtypes.py:519: FutureWarning: Passing (type, 1) or '1type' as a synonym of type is deprecated; in a future version of numpy, it will be understood as (type, (1,)) / '(1,)type'.\n",
      "  _np_quint16 = np.dtype([(\"quint16\", np.uint16, 1)])\n",
      "c:\\programdata\\miniconda3\\lib\\site-packages\\tensorflow\\python\\framework\\dtypes.py:520: FutureWarning: Passing (type, 1) or '1type' as a synonym of type is deprecated; in a future version of numpy, it will be understood as (type, (1,)) / '(1,)type'.\n",
      "  _np_qint32 = np.dtype([(\"qint32\", np.int32, 1)])\n",
      "c:\\programdata\\miniconda3\\lib\\site-packages\\tensorflow\\python\\framework\\dtypes.py:525: FutureWarning: Passing (type, 1) or '1type' as a synonym of type is deprecated; in a future version of numpy, it will be understood as (type, (1,)) / '(1,)type'.\n",
      "  np_resource = np.dtype([(\"resource\", np.ubyte, 1)])\n",
      "c:\\programdata\\miniconda3\\lib\\site-packages\\tensorboard\\compat\\tensorflow_stub\\dtypes.py:541: FutureWarning: Passing (type, 1) or '1type' as a synonym of type is deprecated; in a future version of numpy, it will be understood as (type, (1,)) / '(1,)type'.\n",
      "  _np_qint8 = np.dtype([(\"qint8\", np.int8, 1)])\n",
      "c:\\programdata\\miniconda3\\lib\\site-packages\\tensorboard\\compat\\tensorflow_stub\\dtypes.py:542: FutureWarning: Passing (type, 1) or '1type' as a synonym of type is deprecated; in a future version of numpy, it will be understood as (type, (1,)) / '(1,)type'.\n",
      "  _np_quint8 = np.dtype([(\"quint8\", np.uint8, 1)])\n",
      "c:\\programdata\\miniconda3\\lib\\site-packages\\tensorboard\\compat\\tensorflow_stub\\dtypes.py:543: FutureWarning: Passing (type, 1) or '1type' as a synonym of type is deprecated; in a future version of numpy, it will be understood as (type, (1,)) / '(1,)type'.\n",
      "  _np_qint16 = np.dtype([(\"qint16\", np.int16, 1)])\n",
      "c:\\programdata\\miniconda3\\lib\\site-packages\\tensorboard\\compat\\tensorflow_stub\\dtypes.py:544: FutureWarning: Passing (type, 1) or '1type' as a synonym of type is deprecated; in a future version of numpy, it will be understood as (type, (1,)) / '(1,)type'.\n",
      "  _np_quint16 = np.dtype([(\"quint16\", np.uint16, 1)])\n",
      "c:\\programdata\\miniconda3\\lib\\site-packages\\tensorboard\\compat\\tensorflow_stub\\dtypes.py:545: FutureWarning: Passing (type, 1) or '1type' as a synonym of type is deprecated; in a future version of numpy, it will be understood as (type, (1,)) / '(1,)type'.\n",
      "  _np_qint32 = np.dtype([(\"qint32\", np.int32, 1)])\n",
      "c:\\programdata\\miniconda3\\lib\\site-packages\\tensorboard\\compat\\tensorflow_stub\\dtypes.py:550: FutureWarning: Passing (type, 1) or '1type' as a synonym of type is deprecated; in a future version of numpy, it will be understood as (type, (1,)) / '(1,)type'.\n",
      "  np_resource = np.dtype([(\"resource\", np.ubyte, 1)])\n"
     ]
    }
   ],
   "source": [
    "import sys\n",
    "sys.path.append(\"../\")\n",
    "from regressor.regressor import Regressor, r_square, rmse\n",
    "import matplotlib.pyplot as plt\n",
    "import seaborn as sns\n",
    "import pandas as pd\n",
    "import numpy as np\n",
    "from sklearn import preprocessing\n",
    "from sklearn.model_selection import train_test_split"
   ]
  },
  {
   "cell_type": "code",
   "execution_count": 2,
   "metadata": {},
   "outputs": [
    {
     "data": {
      "text/html": [
       "<div>\n",
       "<style scoped>\n",
       "    .dataframe tbody tr th:only-of-type {\n",
       "        vertical-align: middle;\n",
       "    }\n",
       "\n",
       "    .dataframe tbody tr th {\n",
       "        vertical-align: top;\n",
       "    }\n",
       "\n",
       "    .dataframe thead th {\n",
       "        text-align: right;\n",
       "    }\n",
       "</style>\n",
       "<table border=\"1\" class=\"dataframe\">\n",
       "  <thead>\n",
       "    <tr style=\"text-align: right;\">\n",
       "      <th></th>\n",
       "      <th>ppd_temp</th>\n",
       "      <th>ppd_hum</th>\n",
       "      <th>ppd_dvin</th>\n",
       "      <th>ppd_vvin</th>\n",
       "      <th>ppd_precip</th>\n",
       "      <th>ppd_radsol</th>\n",
       "      <th>ppd_patm</th>\n",
       "      <th>pd_temp</th>\n",
       "      <th>pd_hum</th>\n",
       "      <th>pd_dvin</th>\n",
       "      <th>...</th>\n",
       "      <th>pd_radsol</th>\n",
       "      <th>pd_patm</th>\n",
       "      <th>temp</th>\n",
       "      <th>hum</th>\n",
       "      <th>dir.vin</th>\n",
       "      <th>vel.vin</th>\n",
       "      <th>precip</th>\n",
       "      <th>rad.sol</th>\n",
       "      <th>p.atm</th>\n",
       "      <th>target</th>\n",
       "    </tr>\n",
       "  </thead>\n",
       "  <tbody>\n",
       "    <tr>\n",
       "      <th>0</th>\n",
       "      <td>-0.1</td>\n",
       "      <td>97.1</td>\n",
       "      <td>251.2</td>\n",
       "      <td>0</td>\n",
       "      <td>0</td>\n",
       "      <td>0</td>\n",
       "      <td>1009</td>\n",
       "      <td>2.2</td>\n",
       "      <td>96.3</td>\n",
       "      <td>128.9</td>\n",
       "      <td>...</td>\n",
       "      <td>0</td>\n",
       "      <td>1017</td>\n",
       "      <td>6.1</td>\n",
       "      <td>95.8</td>\n",
       "      <td>142.4</td>\n",
       "      <td>0</td>\n",
       "      <td>0</td>\n",
       "      <td>0</td>\n",
       "      <td>1012</td>\n",
       "      <td>4.9</td>\n",
       "    </tr>\n",
       "    <tr>\n",
       "      <th>1</th>\n",
       "      <td>2.2</td>\n",
       "      <td>96.3</td>\n",
       "      <td>128.9</td>\n",
       "      <td>0</td>\n",
       "      <td>0</td>\n",
       "      <td>0</td>\n",
       "      <td>1017</td>\n",
       "      <td>4.9</td>\n",
       "      <td>97.3</td>\n",
       "      <td>125.1</td>\n",
       "      <td>...</td>\n",
       "      <td>0</td>\n",
       "      <td>1011</td>\n",
       "      <td>3.2</td>\n",
       "      <td>93.1</td>\n",
       "      <td>231.7</td>\n",
       "      <td>0</td>\n",
       "      <td>0.4</td>\n",
       "      <td>0</td>\n",
       "      <td>1020</td>\n",
       "      <td>0.3</td>\n",
       "    </tr>\n",
       "    <tr>\n",
       "      <th>2</th>\n",
       "      <td>4.9</td>\n",
       "      <td>97.3</td>\n",
       "      <td>125.1</td>\n",
       "      <td>0</td>\n",
       "      <td>0</td>\n",
       "      <td>0</td>\n",
       "      <td>1011</td>\n",
       "      <td>0.3</td>\n",
       "      <td>94.8</td>\n",
       "      <td>185.6</td>\n",
       "      <td>...</td>\n",
       "      <td>10.4</td>\n",
       "      <td>1027</td>\n",
       "      <td>0.6</td>\n",
       "      <td>90.1</td>\n",
       "      <td>130.5</td>\n",
       "      <td>0</td>\n",
       "      <td>0</td>\n",
       "      <td>0</td>\n",
       "      <td>1028</td>\n",
       "      <td>-0.9</td>\n",
       "    </tr>\n",
       "    <tr>\n",
       "      <th>3</th>\n",
       "      <td>0.3</td>\n",
       "      <td>94.8</td>\n",
       "      <td>185.6</td>\n",
       "      <td>0</td>\n",
       "      <td>0</td>\n",
       "      <td>10.4</td>\n",
       "      <td>1027</td>\n",
       "      <td>-0.9</td>\n",
       "      <td>73.7</td>\n",
       "      <td>114.3</td>\n",
       "      <td>...</td>\n",
       "      <td>5.4</td>\n",
       "      <td>1028</td>\n",
       "      <td>-0.9</td>\n",
       "      <td>82.5</td>\n",
       "      <td>146.5</td>\n",
       "      <td>0</td>\n",
       "      <td>0</td>\n",
       "      <td>0</td>\n",
       "      <td>1024</td>\n",
       "      <td>-4</td>\n",
       "    </tr>\n",
       "    <tr>\n",
       "      <th>4</th>\n",
       "      <td>-0.9</td>\n",
       "      <td>73.7</td>\n",
       "      <td>114.3</td>\n",
       "      <td>0</td>\n",
       "      <td>0</td>\n",
       "      <td>5.4</td>\n",
       "      <td>1028</td>\n",
       "      <td>-4</td>\n",
       "      <td>93.8</td>\n",
       "      <td>126.8</td>\n",
       "      <td>...</td>\n",
       "      <td>0</td>\n",
       "      <td>1031</td>\n",
       "      <td>-2.9</td>\n",
       "      <td>88.5</td>\n",
       "      <td>141.3</td>\n",
       "      <td>0</td>\n",
       "      <td>0</td>\n",
       "      <td>0</td>\n",
       "      <td>1031</td>\n",
       "      <td>-6.5</td>\n",
       "    </tr>\n",
       "  </tbody>\n",
       "</table>\n",
       "<p>5 rows × 22 columns</p>\n",
       "</div>"
      ],
      "text/plain": [
       "  ppd_temp ppd_hum ppd_dvin ppd_vvin ppd_precip ppd_radsol ppd_patm pd_temp  \\\n",
       "0     -0.1    97.1    251.2        0          0          0     1009     2.2   \n",
       "1      2.2    96.3    128.9        0          0          0     1017     4.9   \n",
       "2      4.9    97.3    125.1        0          0          0     1011     0.3   \n",
       "3      0.3    94.8    185.6        0          0       10.4     1027    -0.9   \n",
       "4     -0.9    73.7    114.3        0          0        5.4     1028      -4   \n",
       "\n",
       "  pd_hum pd_dvin  ...   pd_radsol pd_patm temp   hum dir.vin vel.vin precip  \\\n",
       "0   96.3   128.9  ...           0    1017  6.1  95.8   142.4       0      0   \n",
       "1   97.3   125.1  ...           0    1011  3.2  93.1   231.7       0    0.4   \n",
       "2   94.8   185.6  ...        10.4    1027  0.6  90.1   130.5       0      0   \n",
       "3   73.7   114.3  ...         5.4    1028 -0.9  82.5   146.5       0      0   \n",
       "4   93.8   126.8  ...           0    1031 -2.9  88.5   141.3       0      0   \n",
       "\n",
       "  rad.sol p.atm target  \n",
       "0       0  1012    4.9  \n",
       "1       0  1020    0.3  \n",
       "2       0  1028   -0.9  \n",
       "3       0  1024     -4  \n",
       "4       0  1031   -6.5  \n",
       "\n",
       "[5 rows x 22 columns]"
      ]
     },
     "execution_count": 2,
     "metadata": {},
     "output_type": "execute_result"
    }
   ],
   "source": [
    "columns = [\"ppd_temp\", \"ppd_hum\", \"ppd_dvin\", \"ppd_vvin\", \"ppd_precip\", \"ppd_radsol\", \"ppd_patm\",\n",
    "           \"pd_temp\", \"pd_hum\", \"pd_dvin\", \"pd_vvin\", \"pd_precip\", \"pd_radsol\", \"pd_patm\",\n",
    "           \"code\", \"date\", \"time\", \"temp\", \"hum\", \"dir.vin\", \"vel.vin\", \"precip\", \n",
    "           \"rad.sol\", \"p.atm\", \"datetime+14hrs\", \"date+14hrs\", \"target\"]\n",
    "data0 = np.load(\"../data/processed/dataset2.npy\", allow_pickle=True)\n",
    "df0 = pd.DataFrame(data0, columns=columns)\n",
    "df = df0.drop(['code', 'date', 'time', 'datetime+14hrs', 'date+14hrs'], axis=1)\n",
    "df.head()"
   ]
  },
  {
   "cell_type": "code",
   "execution_count": 80,
   "metadata": {},
   "outputs": [],
   "source": [
    "scaler = preprocessing.MinMaxScaler()\n",
    "scaler.fit(df)\n",
    "data = scaler.transform(df)\n",
    "X = data[:,:-1]\n",
    "y = data[:,-1]\n",
    "stratify = np.array(df[\"target\"] <= 0).astype(int)"
   ]
  },
  {
   "cell_type": "code",
   "execution_count": 83,
   "metadata": {},
   "outputs": [],
   "source": [
    "X_train, X_test, y_train, y_test = train_test_split(X,y,test_size=0.2, random_state=1, stratify=stratify)"
   ]
  },
  {
   "cell_type": "code",
   "execution_count": 84,
   "metadata": {},
   "outputs": [
    {
     "name": "stdout",
     "output_type": "stream",
     "text": [
      "21 1\n"
     ]
    }
   ],
   "source": [
    "in_dim = X_train.shape[1]\n",
    "out_dim = 1\n",
    "print(in_dim, out_dim)"
   ]
  },
  {
   "cell_type": "markdown",
   "metadata": {},
   "source": [
    "Generando los datos de entrenamiento y prueba, el regressor siempre funciona igual. debemos dar el in_dim y out_dim segun nuestros datos y podemos definir toda metrica que querramos. Si quieren usar early_stopping, borren el kwarg de early_stopping=None y lo usara por defecto"
   ]
  },
  {
   "cell_type": "code",
   "execution_count": 85,
   "metadata": {},
   "outputs": [],
   "source": [
    "reg = Regressor(input_dim=in_dim, output_dim=out_dim, n=2, layer_size=200, \n",
    "                loss='mean_squared_error', optimizer='adam', metrics=['mae', rmse, r_square], early_stopping=None)"
   ]
  },
  {
   "cell_type": "code",
   "execution_count": 86,
   "metadata": {},
   "outputs": [
    {
     "name": "stdout",
     "output_type": "stream",
     "text": [
      "_________________________________________________________________\n",
      "Layer (type)                 Output Shape              Param #   \n",
      "=================================================================\n",
      "dense_16 (Dense)             (None, 200)               4400      \n",
      "_________________________________________________________________\n",
      "dense_17 (Dense)             (None, 200)               40200     \n",
      "_________________________________________________________________\n",
      "dense_18 (Dense)             (None, 1)                 201       \n",
      "=================================================================\n",
      "Total params: 44,801\n",
      "Trainable params: 44,801\n",
      "Non-trainable params: 0\n",
      "_________________________________________________________________\n"
     ]
    }
   ],
   "source": [
    "reg.build()"
   ]
  },
  {
   "cell_type": "code",
   "execution_count": 87,
   "metadata": {},
   "outputs": [
    {
     "name": "stdout",
     "output_type": "stream",
     "text": [
      "Train on 32760 samples, validate on 8191 samples\n",
      "Epoch 1/20\n",
      "32760/32760 [==============================] - 1s 17us/step - loss: 0.0198 - mean_absolute_error: 0.0896 - rmse: 0.0896 - r_square: -0.2586 - val_loss: 0.0051 - val_mean_absolute_error: 0.0573 - val_rmse: 0.0573 - val_r_square: 0.6737\n",
      "Epoch 2/20\n",
      "32760/32760 [==============================] - 0s 7us/step - loss: 0.0050 - mean_absolute_error: 0.0569 - rmse: 0.0569 - r_square: 0.6850 - val_loss: 0.0047 - val_mean_absolute_error: 0.0551 - val_rmse: 0.0551 - val_r_square: 0.7024\n",
      "Epoch 3/20\n",
      "32760/32760 [==============================] - 0s 7us/step - loss: 0.0047 - mean_absolute_error: 0.0553 - rmse: 0.0553 - r_square: 0.7042 - val_loss: 0.0044 - val_mean_absolute_error: 0.0538 - val_rmse: 0.0538 - val_r_square: 0.7173\n",
      "Epoch 4/20\n",
      "32760/32760 [==============================] - 0s 7us/step - loss: 0.0046 - mean_absolute_error: 0.0545 - rmse: 0.0545 - r_square: 0.7126 - val_loss: 0.0044 - val_mean_absolute_error: 0.0535 - val_rmse: 0.0535 - val_r_square: 0.7174\n",
      "Epoch 5/20\n",
      "32760/32760 [==============================] - 0s 7us/step - loss: 0.0045 - mean_absolute_error: 0.0543 - rmse: 0.0543 - r_square: 0.7148 - val_loss: 0.0044 - val_mean_absolute_error: 0.0531 - val_rmse: 0.0531 - val_r_square: 0.7227\n",
      "Epoch 6/20\n",
      "32760/32760 [==============================] - 0s 7us/step - loss: 0.0045 - mean_absolute_error: 0.0542 - rmse: 0.0542 - r_square: 0.7166 - val_loss: 0.0045 - val_mean_absolute_error: 0.0538 - val_rmse: 0.0538 - val_r_square: 0.7167\n",
      "Epoch 7/20\n",
      "32760/32760 [==============================] - 0s 7us/step - loss: 0.0044 - mean_absolute_error: 0.0536 - rmse: 0.0536 - r_square: 0.7208 - val_loss: 0.0042 - val_mean_absolute_error: 0.0523 - val_rmse: 0.0523 - val_r_square: 0.7307\n",
      "Epoch 8/20\n",
      "32760/32760 [==============================] - 0s 7us/step - loss: 0.0044 - mean_absolute_error: 0.0534 - rmse: 0.0534 - r_square: 0.7243 - val_loss: 0.0043 - val_mean_absolute_error: 0.0525 - val_rmse: 0.0525 - val_r_square: 0.7294\n",
      "Epoch 9/20\n",
      "32760/32760 [==============================] - 0s 7us/step - loss: 0.0044 - mean_absolute_error: 0.0531 - rmse: 0.0531 - r_square: 0.7262 - val_loss: 0.0042 - val_mean_absolute_error: 0.0518 - val_rmse: 0.0518 - val_r_square: 0.7356\n",
      "Epoch 10/20\n",
      "32760/32760 [==============================] - 0s 7us/step - loss: 0.0044 - mean_absolute_error: 0.0531 - rmse: 0.0531 - r_square: 0.7261 - val_loss: 0.0043 - val_mean_absolute_error: 0.0527 - val_rmse: 0.0527 - val_r_square: 0.7253\n",
      "Epoch 11/20\n",
      "32760/32760 [==============================] - 0s 7us/step - loss: 0.0043 - mean_absolute_error: 0.0527 - rmse: 0.0527 - r_square: 0.7306 - val_loss: 0.0042 - val_mean_absolute_error: 0.0520 - val_rmse: 0.0520 - val_r_square: 0.7320\n",
      "Epoch 12/20\n",
      "32760/32760 [==============================] - 0s 7us/step - loss: 0.0043 - mean_absolute_error: 0.0525 - rmse: 0.0525 - r_square: 0.7322 - val_loss: 0.0045 - val_mean_absolute_error: 0.0537 - val_rmse: 0.0537 - val_r_square: 0.7116\n",
      "Epoch 13/20\n",
      "32760/32760 [==============================] - 0s 7us/step - loss: 0.0044 - mean_absolute_error: 0.0530 - rmse: 0.0530 - r_square: 0.7261 - val_loss: 0.0044 - val_mean_absolute_error: 0.0529 - val_rmse: 0.0529 - val_r_square: 0.7228\n",
      "Epoch 14/20\n",
      "32760/32760 [==============================] - 0s 8us/step - loss: 0.0043 - mean_absolute_error: 0.0527 - rmse: 0.0527 - r_square: 0.7296 - val_loss: 0.0041 - val_mean_absolute_error: 0.0515 - val_rmse: 0.0515 - val_r_square: 0.7388\n",
      "Epoch 15/20\n",
      "32760/32760 [==============================] - 0s 8us/step - loss: 0.0042 - mean_absolute_error: 0.0521 - rmse: 0.0521 - r_square: 0.7356 - val_loss: 0.0043 - val_mean_absolute_error: 0.0528 - val_rmse: 0.0528 - val_r_square: 0.7258\n",
      "Epoch 16/20\n",
      "32760/32760 [==============================] - 0s 7us/step - loss: 0.0042 - mean_absolute_error: 0.0520 - rmse: 0.0520 - r_square: 0.7370 - val_loss: 0.0041 - val_mean_absolute_error: 0.0515 - val_rmse: 0.0515 - val_r_square: 0.7388\n",
      "Epoch 17/20\n",
      "32760/32760 [==============================] - 0s 7us/step - loss: 0.0042 - mean_absolute_error: 0.0523 - rmse: 0.0523 - r_square: 0.7347 - val_loss: 0.0041 - val_mean_absolute_error: 0.0516 - val_rmse: 0.0516 - val_r_square: 0.7371\n",
      "Epoch 18/20\n",
      "32760/32760 [==============================] - 0s 7us/step - loss: 0.0041 - mean_absolute_error: 0.0516 - rmse: 0.0516 - r_square: 0.7392 - val_loss: 0.0041 - val_mean_absolute_error: 0.0513 - val_rmse: 0.0513 - val_r_square: 0.7398\n",
      "Epoch 19/20\n",
      "32760/32760 [==============================] - 0s 7us/step - loss: 0.0042 - mean_absolute_error: 0.0521 - rmse: 0.0521 - r_square: 0.7344 - val_loss: 0.0041 - val_mean_absolute_error: 0.0518 - val_rmse: 0.0518 - val_r_square: 0.7370\n",
      "Epoch 20/20\n",
      "32760/32760 [==============================] - 0s 7us/step - loss: 0.0042 - mean_absolute_error: 0.0519 - rmse: 0.0519 - r_square: 0.7386 - val_loss: 0.0041 - val_mean_absolute_error: 0.0513 - val_rmse: 0.0513 - val_r_square: 0.7381\n"
     ]
    }
   ],
   "source": [
    "history = reg.fit(X_train, y_train, epochs=20, batch_size=200, validation_split=0.2, shuffle=True)"
   ]
  },
  {
   "cell_type": "code",
   "execution_count": 88,
   "metadata": {},
   "outputs": [
    {
     "name": "stdout",
     "output_type": "stream",
     "text": [
      "evaluando test\n",
      "10238/10238 [==============================] - 0s 11us/step\n",
      "    EVALUATION RESULTS :  \n",
      "loss: 0.00\n",
      "mean_absolute_error: 0.05\n",
      "rmse: 0.05\n",
      "r_square: 0.72\n"
     ]
    },
    {
     "data": {
      "image/png": "[encoded data removed]",
      "text/plain": [
       "<Figure size 1152x288 with 4 Axes>"
      ]
     },
     "metadata": {
      "needs_background": "light"
     },
     "output_type": "display_data"
    }
   ],
   "source": [
    "reg.plot_metrics()\n",
    "scores = reg.evaluate(X_test, y_test)"
   ]
  },
  {
   "cell_type": "code",
   "execution_count": 89,
   "metadata": {},
   "outputs": [],
   "source": [
    "y_pred = reg.predict(X_test).reshape(1,-1)[0]"
   ]
  },
  {
   "cell_type": "code",
   "execution_count": 90,
   "metadata": {},
   "outputs": [],
   "source": [
    "dmin = scaler.data_min_[-1]\n",
    "dmax = scaler.data_max_[-1]\n",
    "y_pred2 = y_pred * (dmax - dmin) + dmin\n",
    "y_test2 = y_test * (dmax - dmin) + dmin"
   ]
  },
  {
   "cell_type": "code",
   "execution_count": 91,
   "metadata": {},
   "outputs": [],
   "source": [
    "g1 = y_test2 <= 0\n",
    "g2 = y_test2 > 0\n",
    "\n",
    "y_predg1 = y_pred2[g1]\n",
    "y_testg1 = y_test2[g1]\n",
    "y_predg2 = y_pred2[g2]\n",
    "y_testg2 = y_test2[g2]\n",
    "\n",
    "g3 = y_predg1 > 0\n",
    "g4 = y_predg1 <= 0\n",
    "\n",
    "y_predg3 = y_predg1[g3]\n",
    "y_testg3 = y_testg1[g3]\n",
    "y_predg4 = y_predg1[g4]\n",
    "y_testg4 = y_testg1[g4]"
   ]
  },
  {
   "cell_type": "code",
   "execution_count": 100,
   "metadata": {},
   "outputs": [
    {
     "data": {
      "text/plain": [
       "<matplotlib.legend.Legend at 0x270ab47c0b8>"
      ]
     },
     "execution_count": 100,
     "metadata": {},
     "output_type": "execute_result"
    },
    {
     "data": {
      "image/png": "[encoded data removed]",
      "text/plain": [
       "<Figure size 432x288 with 1 Axes>"
      ]
     },
     "metadata": {
      "needs_background": "light"
     },
     "output_type": "display_data"
    }
   ],
   "source": [
    "plt.plot(y_predg2, y_testg2, '.', label=r'$T_{real} > 0$')\n",
    "plt.plot(y_predg3, y_testg3, '.', label=r'$T_{real} \\leq 0$ y $T_{pred} > 0$')\n",
    "plt.plot(y_predg4, y_testg4, '.', label=r'$T_{real} \\leq 0$ y $T_{pred} \\leq 0$')\n",
    "plt.plot([dmin, dmax], [dmin, dmax])\n",
    "plt.xlabel(\"temperatura minima predicha\")\n",
    "plt.ylabel(\"temperatura minima real\")\n",
    "plt.legend()"
   ]
  },
  {
   "cell_type": "code",
   "execution_count": 94,
   "metadata": {},
   "outputs": [],
   "source": [
    "def rmse(pred, test):\n",
    "    return np.sqrt(np.mean(np.square(pred - test), axis=-1))"
   ]
  },
  {
   "cell_type": "code",
   "execution_count": 96,
   "metadata": {},
   "outputs": [
    {
     "data": {
      "text/plain": [
       "0.06517425524441399"
      ]
     },
     "execution_count": 96,
     "metadata": {},
     "output_type": "execute_result"
    }
   ],
   "source": [
    "rmse(y_pred, y_test)"
   ]
  },
  {
   "cell_type": "code",
   "execution_count": null,
   "metadata": {},
   "outputs": [],
   "source": []
  }
 ],
 "metadata": {
  "kernelspec": {
   "display_name": "Python 3",
   "language": "python",
   "name": "python3"
  },
  "language_info": {
   "codemirror_mode": {
    "name": "ipython",
    "version": 3
   },
   "file_extension": ".py",
   "mimetype": "text/x-python",
   "name": "python",
   "nbconvert_exporter": "python",
   "pygments_lexer": "ipython3",
   "version": "3.7.3"
  }
 },
 "nbformat": 4,
 "nbformat_minor": 2
}
