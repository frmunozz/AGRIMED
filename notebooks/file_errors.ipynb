{
 "cells": [
  {
   "cell_type": "code",
   "execution_count": 1,
   "metadata": {},
   "outputs": [],
   "source": [
    "import pandas as pd\n",
    "import glob\n",
    "import numpy as np\n",
    "import sys\n",
    "sys.path.append(\"../scripts\")\n",
    "from badfiles import BadFiles"
   ]
  },
  {
   "cell_type": "markdown",
   "metadata": {},
   "source": [
    "## Exploracion errores en los archivos\n",
    "Exploraremos los datos y sus headers en bruto, verificando que:\n",
    "* las columnas esten bien nombradas y en el orden esperado\n",
    "* no existan datos vacios entre lineas\n",
    "* mediciones inconsistentes o fisicamente imposibles como:\n",
    "    * velocidades de viento, direcciones de viento, radiacion o precipitacion negativas\n",
    "    * presion atmosferica de 0 o inferior\n",
    "* el archivo leido no contenga solo 1 fila (es un dato erroneo)\n",
    "* el archivo leido tenga el formato correcto (que se pueda leer)\n",
    "* archivos dentro de una estacion/carpeta presentan distintos codigos de estacion\n",
    "\n",
    "NOTA: este codigo fue ejecutado varias veces para verificar que los errores fueron corregidos, al final no debe encontrar error alguno"
   ]
  },
  {
   "cell_type": "code",
   "execution_count": 2,
   "metadata": {
    "scrolled": false
   },
   "outputs": [
    {
     "name": "stdout",
     "output_type": "stream",
     "text": [
      ":::::: ARICA Y PARINACOTA ::::::\n",
      ":::::: ATACAMA ::::::\n",
      ":::::: AYSEN DEL GENERAL DEL C.I.CAMPO ::::::\n",
      ":::::: COQUIMBO ::::::\n",
      "INCONSISTENCY.ZeroOrNegPAtm.../data/PAULA/COQUIMBO/CARACHILLA/Carachilla01-01-2009-30-06-2009.csv\n",
      ":::::: DE LA ARAUCANIA ::::::\n",
      ":::::: DE LOS LAGOS ::::::\n",
      ":::::: DE LOS RIOS ::::::\n",
      ":::::: DEL BIO BIO ::::::\n",
      ":::::: DEL LIBERTADOR BERNARDO OHIGGINS ::::::\n",
      ":::::: DEL MAULE ::::::\n",
      ":::::: METROPOLITANA ::::::\n",
      ":::::: VALPARAISO ::::::\n"
     ]
    }
   ],
   "source": [
    "raw_data_path = \"../data/PAULA\"\n",
    "\n",
    "bf = BadFiles(raw_data_path)\n",
    "bf.check_all()"
   ]
  },
  {
   "cell_type": "code",
   "execution_count": 3,
   "metadata": {},
   "outputs": [
    {
     "name": "stdout",
     "output_type": "stream",
     "text": [
      "total de archivos excel: 392\n",
      "archivos excel con problemas: 1\n",
      "1 1\n"
     ]
    }
   ],
   "source": [
    "bf.save(\"../data\")\n",
    "print(\"total de archivos excel:\", bf.counter)\n",
    "print(\"archivos excel con problemas:\", bf.counter_bads)\n",
    "print(len(bf.files), len(bf.errors))"
   ]
  },
  {
   "cell_type": "markdown",
   "metadata": {},
   "source": [
    "### Posibles correcciones\n",
    "* Para las tablas con malos headers basta con renombrarlos manualmente\n",
    "* Para las tablas con NaN, tenemos 2 opciones:\n",
    "    * OPCION 1: borrar la fila especifica que contiene el dato NaN, esto puede causar series de tiempo irregulares\n",
    "    * OPCION 2: interpolar el dato perdido (lo mas facil seria una interponacion lineal entre el dato anterior y el siguiente, si es el ultimo borrarlo)\n",
    "* para los casos en datos malos, manualmente hay que identificar los casos, si son pocos se borran dichos datos asociados, si son muchos, se descarta toda la estacion.\n",
    "* algunas estacion no piden todas las variables que esperamos. Estas estaciones las descartare directamente\n",
    "\n",
    "##### por ahora es recomendable evitar estos excels para que realicen sus exploraciones"
   ]
  },
  {
   "cell_type": "code",
   "execution_count": 7,
   "metadata": {},
   "outputs": [
    {
     "ename": "AttributeError",
     "evalue": "'str' object has no attribute 'decode'",
     "output_type": "error",
     "traceback": [
      "\u001b[1;31m---------------------------------------------------------------------------\u001b[0m",
      "\u001b[1;31mAttributeError\u001b[0m                            Traceback (most recent call last)",
      "\u001b[1;32m<ipython-input-7-c503b06df0da>\u001b[0m in \u001b[0;36m<module>\u001b[1;34m\u001b[0m\n\u001b[0;32m      1\u001b[0m \u001b[0mencoding\u001b[0m \u001b[1;33m=\u001b[0m \u001b[1;34m\"utf-8\"\u001b[0m \u001b[1;31m# or iso-8859-15, or cp1252, or whatever encoding you use\u001b[0m\u001b[1;33m\u001b[0m\u001b[1;33m\u001b[0m\u001b[0m\n\u001b[0;32m      2\u001b[0m \u001b[0mbyte_string\u001b[0m \u001b[1;33m=\u001b[0m \u001b[1;34m\"café\"\u001b[0m  \u001b[1;31m# or simply \"café\" before python 3.\u001b[0m\u001b[1;33m\u001b[0m\u001b[1;33m\u001b[0m\u001b[0m\n\u001b[1;32m----> 3\u001b[1;33m \u001b[0municode_string\u001b[0m \u001b[1;33m=\u001b[0m \u001b[0mbyte_string\u001b[0m\u001b[1;33m.\u001b[0m\u001b[0mdecode\u001b[0m\u001b[1;33m(\u001b[0m\u001b[0mencoding\u001b[0m\u001b[1;33m)\u001b[0m\u001b[1;33m\u001b[0m\u001b[1;33m\u001b[0m\u001b[0m\n\u001b[0m",
      "\u001b[1;31mAttributeError\u001b[0m: 'str' object has no attribute 'decode'"
     ]
    }
   ],
   "source": [
    "encoding = \"utf-8\" # or iso-8859-15, or cp1252, or whatever encoding you use\n",
    "byte_string = \"café\"  # or simply \"café\" before python 3.\n",
    "unicode_string = byte_string.decode(encoding)"
   ]
  },
  {
   "cell_type": "code",
   "execution_count": 8,
   "metadata": {},
   "outputs": [],
   "source": [
    "s = \"café\" "
   ]
  },
  {
   "cell_type": "code",
   "execution_count": 11,
   "metadata": {},
   "outputs": [],
   "source": [
    "s2 = s.encode()"
   ]
  },
  {
   "cell_type": "code",
   "execution_count": 13,
   "metadata": {},
   "outputs": [
    {
     "data": {
      "text/plain": [
       "'café'"
      ]
     },
     "execution_count": 13,
     "metadata": {},
     "output_type": "execute_result"
    }
   ],
   "source": [
    "s2.decode(encoding)"
   ]
  },
  {
   "cell_type": "code",
   "execution_count": 14,
   "metadata": {},
   "outputs": [
    {
     "ename": "AttributeError",
     "evalue": "'str' object has no attribute 'hash'",
     "output_type": "error",
     "traceback": [
      "\u001b[1;31m---------------------------------------------------------------------------\u001b[0m",
      "\u001b[1;31mAttributeError\u001b[0m                            Traceback (most recent call last)",
      "\u001b[1;32m<ipython-input-14-55853d3e43ac>\u001b[0m in \u001b[0;36m<module>\u001b[1;34m\u001b[0m\n\u001b[1;32m----> 1\u001b[1;33m \u001b[0ms\u001b[0m\u001b[1;33m.\u001b[0m\u001b[0mhash\u001b[0m\u001b[1;33m(\u001b[0m\u001b[1;33m)\u001b[0m\u001b[1;33m\u001b[0m\u001b[1;33m\u001b[0m\u001b[0m\n\u001b[0m",
      "\u001b[1;31mAttributeError\u001b[0m: 'str' object has no attribute 'hash'"
     ]
    }
   ],
   "source": [
    "s.hash()"
   ]
  },
  {
   "cell_type": "code",
   "execution_count": null,
   "metadata": {},
   "outputs": [],
   "source": []
  }
 ],
 "metadata": {
  "kernelspec": {
   "display_name": "Python 3",
   "language": "python",
   "name": "python3"
  },
  "language_info": {
   "codemirror_mode": {
    "name": "ipython",
    "version": 3
   },
   "file_extension": ".py",
   "mimetype": "text/x-python",
   "name": "python",
   "nbconvert_exporter": "python",
   "pygments_lexer": "ipython3",
   "version": "3.7.3"
  }
 },
 "nbformat": 4,
 "nbformat_minor": 2
}
